{
 "cells": [
  {
   "cell_type": "code",
   "execution_count": null,
   "metadata": {},
   "outputs": [],
   "source": [
    "#12/24 GeoSeries 추가\n",
    "from geoband.API import *\n",
    "import pandas as pd\n",
    "import folium\n",
    "import json\n",
    "import geopandas as gpd\n",
    "from geojson import Feature, FeatureCollection, Point, dump\n",
    "from geopandas import GeoSeries\n",
    "from shapely.geometry import Point\n",
    "import matplotlib.pyplot as plt\n",
    "import pydeck as pdk\n",
    "import shapely\n",
    "import jenkspy\n",
    "import numpy as np\n",
    "plt.rc(\"font\", family = \"Malgun Gothic\")\n",
    "%matplotlib inline\n",
    "import warnings\n",
    "warnings.filterwarnings(action='ignore') "
   ]
  },
  {
   "cell_type": "code",
   "execution_count": null,
   "metadata": {},
   "outputs": [],
   "source": [
    "df1_parking=GetCompasData('SBJ_2012_001', '1', '1.오산시_주정차단속(2018~2020).csv')\n",
    "df2_grid_accident=GetCompasData('SBJ_2012_001', '2', '2.오산시_어린이교통사고_격자.geojson')\n",
    "df3_grid_car_enrollment=GetCompasData('SBJ_2012_001', '3', '3.오산시_차량등록현황_격자.geojson')\n",
    "df4_pop=GetCompasData('SBJ_2012_001', '4', '4.오산시_연령별_거주인구격자(총인구).geojson')\n",
    "df5_junior_pop=GetCompasData('SBJ_2012_001', '5', '5.오산시_연령별_거주인구격자(유소년).geojson')\n",
    "df6_product_pop=GetCompasData('SBJ_2012_001', '6', '6.오산시_연령별_거주인구격자(생산가능인구).geojson')\n",
    "df7_senior_pop=GetCompasData('SBJ_2012_001', '7', '7.오산시_연령별_거주인구격자(고령).geojson')\n",
    "df8_floating_pop=GetCompasData('SBJ_2012_001', '8', '8.오산시_유동인구(2019).csv')\n",
    "df9_protection_area=GetCompasData('SBJ_2012_001', '9', '9.오산시_어린이보호구역.csv')\n",
    "df10_school=GetCompasData('SBJ_2012_001', '10', '10.오산시_학교위치정보.csv')\n",
    "df11_elementary_district=GetCompasData('SBJ_2012_001', '11', '11.오산시_초등학교_통학구.geojson')\n",
    "df12_middle_district=GetCompasData('SBJ_2012_001', '12', '12.오산시_중학교_학군.geojson')\n",
    "df13_kinder=GetCompasData('SBJ_2012_001', '13', '13.오산시_어린이집_유치원현황.csv')\n",
    "df14_weather=GetCompasData('SBJ_2012_001', '14', '14.오산시_기상데이터(2010~2019).csv')\n",
    "df15_traffic_cctv=GetCompasData('SBJ_2012_001', '15', '15.오산시_무인교통단속카메라.csv')\n",
    "df16_road_sign=GetCompasData('SBJ_2012_001', '16', '16.오산시_도로안전표지표준데이터.csv')\n",
    "df17_crosswalk=GetCompasData('SBJ_2012_001', '17', '17.오산시_횡단보도.geojson')\n",
    "df18_speed_bump=GetCompasData('SBJ_2012_001', '18', '18.오산시_과속방지턱표준데이터.csv')\n",
    "df19_traffic_light=GetCompasData('SBJ_2012_001', '19', '19.오산시_신호등.geojson')\n",
    "df20_cctv=GetCompasData('SBJ_2012_001', '20', '20.오산시_CCTV설치현황.csv')\n",
    "df21_sidewalk=GetCompasData('SBJ_2012_001', '21', '21.오산시_인도.geojson')\n",
    "df22_bus_stop=GetCompasData('SBJ_2012_001', '22', '22.오산시_버스정류장.csv')\n",
    "df23_road=GetCompasData('SBJ_2012_001', '23', '23.오산시_상세도로망_LV6.geojson')\n",
    "df24_traffic=GetCompasData('SBJ_2012_001', '24', '24.평일_전일,시간대별_오산시_추정교통량_Level6.csv')\n",
    "df25_traffic_frequency=GetCompasData('SBJ_2012_001', '25', '25.평일_전일_오산시_혼잡빈도강도_Level6.csv')\n",
    "df26_traffic_time=GetCompasData('SBJ_2012_001', '26', '26.평일_전일_오산시_혼잡시간강도_Level6.csv')\n",
    "df27_building=GetCompasData('SBJ_2012_001', '27', '27.오산시_도로명주소_건물.geojson')\n",
    "df28_grid_building=GetCompasData('SBJ_2012_001', '28', '28.오산시_건물연면적_격자.geojson')\n",
    "df29_sports=GetCompasData('SBJ_2012_001', '29', '29.오산시_체육시설현황.csv')\n",
    "df30_academy=GetCompasData('SBJ_2012_001', '30', '30.오산시_학원_및_교습소_현황.csv')\n",
    "df31_le_sig=GetCompasData('SBJ_2012_001', '31', '31.오산시_법정경계(시군구).geojson')\n",
    "df32_admin_emd=GetCompasData('SBJ_2012_001', '32', '32.오산시_행정경계(읍면동).geojson')\n",
    "df33_legal_emd=GetCompasData('SBJ_2012_001', '33', '33.오산시_법정경계(읍면동).geojson')\n",
    "df34_cadastral_map=GetCompasData('SBJ_2012_001', '34', '34.오산시_지적도.geojson')"
   ]
  },
  {
   "cell_type": "code",
   "execution_count": null,
   "metadata": {},
   "outputs": [],
   "source": [
    "df1_parking=pd.read_csv('1.오산시_주정차단속(2018~2020).csv')\n",
    "df2_grid_accident=gpd.read_file('2.오산시_어린이교통사고_격자.geojson')\n",
    "df3_grid_car_enrollment=gpd.read_file('3.오산시_차량등록현황_격자.geojson')\n",
    "df4_pop=gpd.read_file('4.오산시_연령별_거주인구격자(총인구).geojson')\n",
    "df5_junior_pop=gpd.read_file('5.오산시_연령별_거주인구격자(유소년).geojson')\n",
    "df6_product_pop=gpd.read_file('6.오산시_연령별_거주인구격자(생산가능인구).geojson')\n",
    "df7_senior_pop=gpd.read_file('7.오산시_연령별_거주인구격자(고령).geojson')\n",
    "df8_floating_pop=pd.read_csv('8.오산시_유동인구(2019).csv')\n",
    "df9_protection_area=pd.read_csv('9.오산시_어린이보호구역.csv')\n",
    "df10_school=pd.read_csv('10.오산시_학교위치정보.csv')\n",
    "df11_elementary_district=gpd.read_file('11.오산시_초등학교_통학구.geojson')\n",
    "df12_middle_district=gpd.read_file('12.오산시_중학교_학군.geojson')\n",
    "df13_kinder=pd.read_csv('13.오산시_어린이집_유치원현황.csv')\n",
    "df14_weather=pd.read_csv('14.오산시_기상데이터(2010~2019).csv')\n",
    "df15_traffic_cctv=pd.read_csv('15.오산시_무인교통단속카메라.csv')\n",
    "df16_road_sign=pd.read_csv('16.오산시_도로안전표지표준데이터.csv')\n",
    "df17_crosswalk=gpd.read_file('17.오산시_횡단보도.geojson')\n",
    "df18_speed_bump=pd.read_csv('18.오산시_과속방지턱표준데이터.csv')\n",
    "df19_traffic_light=gpd.read_file('19.오산시_신호등.geojson')\n",
    "df20_cctv=pd.read_csv('20.오산시_CCTV설치현황.csv')\n",
    "df21_sidewalk=gpd.read_file('21.오산시_인도.geojson')\n",
    "df22_bus_stop=pd.read_csv('22.오산시_버스정류장.csv')\n",
    "df23_road=gpd.read_file('23.오산시_상세도로망_LV6.geojson')\n",
    "df24_traffic=pd.read_csv('24.평일_전일,시간대별_오산시_추정교통량_Level6.csv')\n",
    "df25_traffic_frequency=pd.read_csv('25.평일_전일_오산시_혼잡빈도강도_Level6.csv')\n",
    "df26_traffic_time=pd.read_csv('26.평일_전일_오산시_혼잡시간강도_Level6.csv')\n",
    "df27_building=gpd.read_file('27.오산시_도로명주소_건물.geojson')\n",
    "df28_grid_building=gpd.read_file('28.오산시_건물연면적_격자.geojson')\n",
    "df29_sports=pd.read_csv('29.오산시_체육시설현황.csv')\n",
    "df30_academy=pd.read_csv('30.오산시_학원_및_교습소_현황.csv')\n",
    "df31_le_sig=gpd.read_file('31.오산시_법정경계(시군구).geojson')\n",
    "df32_admin_emd=gpd.read_file('32.오산시_행정경계(읍면동).geojson')\n",
    "df33_legal_emd=gpd.read_file('33.오산시_법정경계(읍면동).geojson')"
   ]
  },
  {
   "cell_type": "code",
   "execution_count": null,
   "metadata": {},
   "outputs": [],
   "source": [
    "#지도 그리는 함수 지정\n",
    "def drawing_Choro(df, osan_grid, title, legend):\n",
    "    center=[37.1498, 127.0772]\n",
    "    # 맵이 center 에 위치하고, zoom 레벨은 16로 시작하는 맵 m을 만듭니다.\n",
    "    m1 = folium.Map(\n",
    "        location=center,\n",
    "        zoom_start=13,\n",
    "        tiles='http://api.vworld.kr/req/wmts/1.0.0/26BFD173-330E-3D54-9C39-895DDD8F23B3/Base/{z}/{y}/{x}.png',\n",
    "        attr='My Data Attribution'\n",
    "    )\n",
    "\n",
    "    # Choropleth 레이어를 만들고, 맵 m에 추가합니다.\n",
    "    folium.Choropleth(\n",
    "        geo_data=osan_grid,\n",
    "        data=df,\n",
    "        columns=('gid', 'time'),\n",
    "        key_on='feature.properties.gid',\n",
    "        legend_name = legend,\n",
    "        fill_color='PuBuGn',\n",
    "        line_opacity = 0.2,\n",
    "    ).add_to(m1)\n",
    "\n",
    "    # 맵 m을 출력합니다.\n",
    "    m1.save(\"{0}.html\".format(title))"
   ]
  },
  {
   "cell_type": "code",
   "execution_count": null,
   "metadata": {},
   "outputs": [],
   "source": [
    "#지도에 맵핑할 격자들 만들기\n",
    "df_osan_grid=df4_pop.drop('val',axis=1)\n",
    "df_osan_grid"
   ]
  },
  {
   "cell_type": "markdown",
   "metadata": {},
   "source": [
    "# pydeck 쓰기 위한 데이터 처리 함수 지정 "
   ]
  },
  {
   "cell_type": "code",
   "execution_count": null,
   "metadata": {},
   "outputs": [],
   "source": [
    "#주정차 단속\n",
    "# location_to_point 함수에서 위도 경도를 point로 가져오려면 각 df의 특성에 맞는 이름인 df_lat, df_lon가 아니라 lat, lon으로 정해준다.\n",
    "df1_parking.columns=['date','parking_location','ad_area','school_zone',\n",
    "                 'lon','lat','parking_type']\n",
    "#스쿨존에 해당하면 1 아니면 0\n",
    "df1_parking.loc[df1_parking['school_zone']=='N','school_zone']=0\n",
    "df1_parking.loc[df1_parking['school_zone']=='Y','school_zone']=1\n",
    "df1_parking"
   ]
  },
  {
   "cell_type": "code",
   "execution_count": null,
   "metadata": {},
   "outputs": [],
   "source": [

    "#df1_parking null값에 해당하는 곳은 유탑유블레스 관련한 cctv들임 어떻게 처리할까-SY\n",
    "df1_parking[df1_parking['lon'].isnull()]\n",
    "\n",
    "##### 창균 (12.22) #####\n",
    "# 오산시 유탑유블레스 남측 좌표 \n",
    "df1_parking[\"lon\"].fillna(127.072291, inplace = True)\n",
    "df1_parking[\"lat\"].fillna(37.141363, inplace = True)\n",
    "df1_parking"
   ]
  },
  {
   "cell_type": "code",
   "execution_count": null,
   "metadata": {},
   "outputs": [],
   "source": [
    "#나중에 비율 구할때 써야됨\n",
    "#val값에 null은 측정이 안된 곳이기에 0으로 처리해줌-SY\n",
    "df4_pop=df4_pop.rename(columns={'val':'pop_val'})\n",
    "df4_pop=df4_pop.fillna(0)\n",
    "df5_junior_pop=df5_junior_pop.rename(columns={'val':'junior_val'})\n",
    "df5_junior_pop=df5_junior_pop.fillna(0)\n",
    "df7_senior_pop=df7_senior_pop.rename(columns={'val':'senior_val'})\n",
    "df7_senior_pop=df7_senior_pop.fillna(0)\n",
    "df6_product_pop=df6_product_pop.rename(columns={'val':'product_val'})\n",
    "df6_product_pop=df6_product_pop.fillna(0)"
   ]
  },
  {
   "cell_type": "code",
   "execution_count": null,
   "metadata": {},
   "outputs": [],
   "source": [
    "# 정민 수정사항(12/21)\n",
    "# 오산시 격자별 유소년 인구수/총 인구수 데이터 전처리\n",
    "\n",
    "df_junior_ratio_pop = df5_junior_pop.merge(df4_pop, on ='gid')\n",
    "df_junior_ratio_pop = df_junior_ratio_pop.drop(['geometry_x'], axis = 1)\n",
    "df_junior_ratio_pop.columns = ['gid', 'junior_val', 'pop_val', 'geometry']\n",
    "df_junior_ratio_pop['junior_ratio'] = df_junior_ratio_pop['junior_val']/df_junior_ratio_pop['pop_val'] * 100\n",
    "\n",
    "df_junior_ratio_pop['junior_ratio'].value_counts()\n",
    "df_junior_ratio_pop=df_junior_ratio_pop.fillna(0)\n",
    "df_junior_ratio_pop"
   ]
  },
  {
   "cell_type": "code",
   "execution_count": null,
   "metadata": {},
   "outputs": [],
   "source": [
    "# 주니어 인구비율 분포확인\n",
    "%matplotlib inline\n",
    "df_junior_ratio_pop[\"junior_ratio\"].plot(xlabel = \"gid\", ylabel = \"junior population ratio to total population\")"
   ]
  },
  {
   "cell_type": "code",
   "execution_count": null,
   "metadata": {},
   "outputs": [],
   "source": [
    "#합치는 코드 있어서 한번만 돌려야됨\n",
    "# location_to_point 함수에서 위도 경도를 point로 가져오려면 각 df의 특성에 맞는 이름인 df_lat, df_lon가 아니라 lat, lon으로 정해준다.\n",
    "#유동인구\n",
    "df_col_list=list(df8_floating_pop)\n",
    "df_col_list_all=df_col_list[3:]\n",
    "df_col_list_14_20=df_col_list[17:23]\n",
    "#모든 시간대 유동인구\n",
    "df8_floating_pop['all']=df8_floating_pop[df_col_list_all].sum(axis=1)\n",
    "#사고가 가장 많이 일어나는 14~20\n",
    "df8_floating_pop['14_20']=df8_floating_pop[df_col_list_14_20].sum(axis=1)\n",
    "df8_floating_pop=df8_floating_pop.rename(columns={'STD_YM':'YM','lon':'lon','lat':'lat'})\n",
    "df8_floating_pop"
   ]
  },
  {
   "cell_type": "code",
   "execution_count": null,
   "metadata": {},
   "outputs": [],
   "source": [
    "#어린이 보호구역\n",
    "df9_protection_area.columns=['protection_type','protection_name','protection_cctv',\n",
    "                         'protection_cctv_count','width','lon','lat']\n",
    "#cctv 있으면 1 없으면 0\n",
    "df9_protection_area.loc[df9_protection_area['protection_cctv']=='N','protection_cctv']=0\n",
    "df9_protection_area.loc[df9_protection_area['protection_cctv']=='Y','protection_cctv']=1\n",
    "df9_protection_area"
   ]
  },
  {
   "cell_type": "code",
   "execution_count": null,
   "metadata": {},
   "outputs": [],
   "source": [
    "#학교 위치정보\n",
    "a=df10_school.loc[df10_school['학교구분'].isin(['고등학교','중학교'])].index\n",
    "df10_school=df10_school.drop(a)\n",
    "df10_school.columns=['school_type','school_name','lon','lat']\n",
    "df10_school = df10_school.reset_index(drop=True)\n",
    "df10_school\n"
   ]
  },
  {
   "cell_type": "code",
   "execution_count": null,
   "metadata": {},
   "outputs": [],
   "source": [
    "# 초등학교 통학구\n",
    "#type이 0이면 단독 통학구 1이면 다중 통학구?\n",
    "df11_elementary_district.columns=['ed_objectid','district_id','ed_name','ed_type','ed_geometry']\n",
    "df11_elementary_district.head()"
   ]
  },
  {
   "cell_type": "code",
   "execution_count": null,
   "metadata": {},
   "outputs": [],
   "source": [
    "# 어린이집 유치원현황\n",

    "df13_kinder=df13_kinder.drop('시설타입',axis=1)\n",
    "df13_kinder.columns=['kinder_type','kinder_name','lon','lat']\n",
    "df13_kinder"
   ]
  },
  {
   "cell_type": "code",
   "execution_count": null,
   "metadata": {},
   "outputs": [],
   "source": [
    "#무인교통 단속 카메라\n",
    "df15_traffic_cctv=df15_traffic_cctv.drop(['도로노선방향','단속구분'],axis=1)\n",
    "df15_traffic_cctv.columns=['tc_road_name','tc_location_name','lon','lat']\n",
    "df15_traffic_cctv"
   ]
  },
  {
   "cell_type": "code",
   "execution_count": null,
   "metadata": {},
   "outputs": [],
   "source": [
    "#도로안전표지 표준데이터\n",
    "df16_road_sign.columns=['road_sign_num','road_sign_type','lon','lat']\n",
    "df16_road_sign"
   ]
  },
  {
   "cell_type": "code",
   "execution_count": null,
   "metadata": {},
   "outputs": [],
   "source": [
    "#횡단보도\n",
    "## 창균 추가 수정 (12.22)\n",
    "df17_crosswalk.columns=['crosswalk_objectid','crosswalk_geometry']\n",
    "df17_crosswalk"
   ]
  },
  {
   "cell_type": "code",
   "execution_count": null,
   "metadata": {},
   "outputs": [],
   "source": [
    "#과속방지턷표준데이터\n",
    "df18_speed_bump.columns=['bump_road_name','bump_location_name','bump_height','bump_width',\n",
    "                   'bump_length','bump_sep','bump_continue','lon','lat']\n",
    "#과속방지턱 보차분리여부,연속형 여부 0,1로 변환\n",
    "df18_speed_bump.loc[df18_speed_bump['bump_sep']=='N','bump_sep']=0\n",
    "df18_speed_bump.loc[df18_speed_bump['bump_sep']=='Y','bump_sep']=1\n",
    "df18_speed_bump.loc[df18_speed_bump['bump_continue']=='N','bump_continue']=0\n",
    "df18_speed_bump.loc[df18_speed_bump['bump_continue']=='Y','bump_continue']=1\n",
    "df18_speed_bump"
   ]
  },
  {
   "cell_type": "code",
   "execution_count": null,
   "metadata": {},
   "outputs": [],
   "source": [
    "#신호등\n",
    "## 창균 추가 수정 (12.22)\n",
    "df19_traffic_light.columns=['traffic_light_objectid','traffic_light_geometry']\n",
    "df19_traffic_light"
   ]
  },
  {
   "cell_type": "code",
   "execution_count": null,
   "metadata": {},
   "outputs": [],
   "source": [
    "#cctv\n",
    "# location_to_point 함수에서 위도 경도를 point로 가져오려면 각 df의 특성에 맞는 이름인 df_lat, df_lon가 아니라 lat, lon으로 정해준다.\n",
    "# cctv_type A: 방범 B:도시공원 C:어린이보호 D:차량방범\n",
    "df20_cctv.columns=['cctv_type','cctv_road_name','lat','lon']\n",
    "#cctv_lat,lon에서 중복적으로 결측값이 나와서 drop, road_name도 null값 nan으로 처리-SY\n",
    "df20_cctv=df20_cctv.drop([500,567],axis=0)\n",
    "df20_cctv=df20_cctv.fillna('NaN')\n",
    "df20_cctv"
   ]
  },
  {
   "cell_type": "code",
   "execution_count": null,
   "metadata": {},
   "outputs": [],
   "source": [
    "#인도\n",
    "df21_sidewalk=df21_sidewalk.drop('QUAL',axis=1)\n",
    "df21_sidewalk.columns=['sidewalk_id','sidewalk_bicycle',\n",
    "                  'sidewalk_type','sidewalk_geometry']\n",
    "#자전거 도로유무 BYC001이 있고 나머지가 없음\n",
    "df21_sidewalk.loc[df21_sidewalk['sidewalk_bicycle']=='BYC001','sidewalk_bicycle']=1\n",
    "df21_sidewalk.loc[df21_sidewalk['sidewalk_bicycle']=='BYC002','sidewalk_bicycle']=0\n",
    "df21_sidewalk"
   ]
  },
  {
   "cell_type": "code",
   "execution_count": null,
   "metadata": {},
   "outputs": [],
   "source": [
    "# 버스 정류장\n",
    "# location_to_point 함수에서 위도 경도를 point로 가져오려면 각 df의 특성에 맞는 이름인 df_lat, df_lon가 아니라 lat, lon으로 정해준다.\n",
    "## 창균 추가 수정 (12.22)\n",
    "df22_bus_stop.columns=['bus_stop_id','bus_stop_name','lon','lat']\n",
    "df22_bus_stop"
   ]
  },
  {
   "cell_type": "code",
   "execution_count": null,
   "metadata": {},
   "outputs": [],
   "source": [
    "#상세도로망\n",
    "#road_name null값 nan으로 처리-SY\n",
    "df23_road=df23_road[df23_road['road_rank'].isin(['103','105','106','107'])]\n",
    "df23_road=df23_road.drop('facil_name',axis=1)\n",
    "df23_road=df23_road.fillna('NaN')\n",
    "df23_road=df23_road.rename(columns={'geometry':'road_geometry'})\n",
    "df23_road"
   ]
  },
  {
   "cell_type": "code",
   "execution_count": null,
   "metadata": {},
   "outputs": [],
   "source": [
    "#평일 시간대별 추정교통량\n",
    "#road_name null값 nan으로 처리-SY\n",
    "df24_traffic=df24_traffic[df24_traffic['도로등급'].isin(['103','105','106','107'])]\n",
    "df24_traffic=df24_traffic.drop(['평일주말','시도명','시군구명'],axis=1)\n",
    "df24_traffic=df24_traffic.fillna('NaN')\n",
    "df24_traffic.columns=['link_id','road_rank','link_length','road_name',\n",
    "               'emd_name','time','all_traffic','car_traffic',\n",
    "                'bus_traffic','freight_car_traffic']\n",
    "#traffic의 time column에서 dtype이 통일이 되어 있지 않아 str로 통일함-SY\n",
    "df24_traffic['time']=df24_traffic['time'].apply(str)\n",
    "df24_traffic"
   ]
  },
  {
   "cell_type": "code",
   "execution_count": null,
   "metadata": {},
   "outputs": [],
   "source": [
    "# 평일 혼잡빈도강도\n",
    "#road_name null값 nan으로 처리-SY\n",
    "df25_traffic_frequency=df25_traffic_frequency[df25_traffic_frequency['도로등급'].isin(['103','105','106','107'])]\n",
    "df25_traffic_frequency=df25_traffic_frequency.drop(['시도명','시군구명','평일주말','시간적범위'],axis=1)\n",
    "df25_traffic_frequency=df25_traffic_frequency.fillna('nan')\n",
    "df25_traffic_frequency.columns=['link_id','road_rank','link_length','road_name',\n",
    "                          'emd_name','frequency']\n",
    "df25_traffic_frequency"
   ]
  },
  {
   "cell_type": "code",
   "execution_count": null,
   "metadata": {},
   "outputs": [],
   "source": [
    "#평일 혼잡시간강도\n",
    "#road_name null값 nan으로 처리-SY\n",
    "df26_traffic_time=df26_traffic_time[df26_traffic_time['도로등급'].isin(['103','105','106','107'])]\n",
    "df26_traffic_time=df26_traffic_time.drop(['시도명','시군구명','평일주말','시간적범위'],axis=1)\n",
    "df26_traffic_time=df26_traffic_time.fillna('NaN')\n",
    "df26_traffic_time.columns=['link_id','road_rank','link_length','road_name',\n",
    "                          'emd_name','time']\n",
    "df26_traffic_time"
   ]
  },
  {
   "cell_type": "code",
   "execution_count": null,
   "metadata": {},
   "outputs": [],
   "source": [
    "#건물\n",
    "df27_building=df27_building.drop(['UND_FLO_CO','GRO_FLO_CO','BULD_NM_DC','BULD_NM'],axis=1)\n",
    "df27_building=df27_building.rename(columns={'geometry':'building_geometry'})\n",
    "df27_building"
   ]
  },
  {
   "cell_type": "code",
   "execution_count": null,
   "metadata": {},
   "outputs": [],
   "source": [
    "#격자별 건물연견적\n",
    "#val값의 null은 측정이 안된 값이라 0으로 처리-SY\n",
    "df28_grid_building.columns=['gid','grid_building_val','grid_building_geometry']\n",
    "df28_grid_building=df28_grid_building.fillna(0)\n",
    "df28_grid_building"
   ]
  },
  {
   "cell_type": "code",
   "execution_count": null,
   "metadata": {},
   "outputs": [],
   "source": [
    "#체육시설\n",
    "df29_sports.columns=['sports_type','lon','lat']\n",
    "df29_sports"
   ]
  },
  {
   "cell_type": "code",
   "execution_count": null,
   "metadata": {},
   "outputs": [],
   "source": [
    "#학원,교습소\n",
    "df30_academy=df30_academy.drop('교습과정명',axis=1)\n",
    "df30_academy.columns=['academy_type','lon','lat']\n",
    "df30_academy=df30_academy.fillna('NaN')\n",
    "df30_academy"
   ]
  },
  {
   "cell_type": "markdown",
   "metadata": {},
   "source": [
    "# 격자에 대한 전처리 "
   ]
  },
  {
   "cell_type": "code",
   "execution_count": null,
   "metadata": {
    "scrolled": true
   },
   "outputs": [],
   "source": [
    "#각 격자에 교통사고 횟수 concat\n",
    "df_osan_grid_info=pd.concat([df_osan_grid,df2_grid_accident['accident_cnt']],axis=1)\n",
    "#각 격자에 거주인구수 concat\n",
    "df_osan_grid_info=pd.concat([df_osan_grid_info,df4_pop['pop_val']],axis=1)\n",
    "#각 격자에 유소년 거주인구수 concat\n",
    "df_osan_grid_info=pd.concat([df_osan_grid_info,df5_junior_pop['junior_val']],axis=1)\n",
    "#각 격자에 건물 면적 concat\n",
    "df_osan_grid_info=pd.concat([df_osan_grid_info,df28_grid_building['grid_building_val']],axis=1)\n",
    "df_osan_grid_info"
   ]
  },
  {
   "cell_type": "markdown",
   "metadata": {},
   "source": [
    "# 교통량 분석"
   ]
  },
  {
   "cell_type": "code",
   "execution_count": null,
   "metadata": {},
   "outputs": [],
   "source": [
    "# 14~20시에 해당하는 교통량과 상세도로망의 데이터 merge\n",
    "df_traffic_1420=df24_traffic[df24_traffic['time'].isin(['14','15','16','17,''18','19'])]\n",
    "df_traffic_road = []\n",
    "for i in df23_road['link_id']:\n",
    "    df_traffic_road.append([i,sum(df_traffic_1420[df_traffic_1420['link_id'].apply(str).str.contains(i)]['all_traffic']),\n",
    "                         sum(df_traffic_1420[df_traffic_1420['link_id'].apply(str).str.contains(i)]['freight_car_traffic'])])\n",
    "    \n",
    "df_traffic_road=pd.DataFrame(df_traffic_road)\n",
    "df_traffic_road.columns=['link_id','all_traffic','freight_car_traffic']\n",
    "#road_info에 모든 도로의 교통량,시간복잡도,빈도복잡도의 데이터를 merge한다\n",
    "df_road_info=pd.merge(df23_road,df_traffic_road,on='link_id')\n",
    "df_road_info"
   ]
  },
  {
   "cell_type": "markdown",
   "metadata": {},
   "source": [
    "# 평일시간복잡도"
   ]
  },
  {
   "cell_type": "code",
   "execution_count": null,
   "metadata": {},
   "outputs": [],
   "source": [
    "# 평일시간복잡도와 상세도로망 merge\n",
    "df_traffic_time_road = []\n",
    "for i in df23_road['link_id']:\n",
    "    df_traffic_time_road.append([i,sum(df26_traffic_time[df26_traffic_time['link_id'].apply(str).str.contains(i)]['time'])])\n",
    "    \n",
    "df_traffic_time_road=pd.DataFrame(df_traffic_time_road)\n",
    "df_traffic_time_road.columns=['link_id','time']\n",
    "# road_info에 시간복잡도 merge\n",
    "df_road_info=pd.merge(df_road_info,df_traffic_time_road,on='link_id')\n",
    "df_road_info"
   ]
  },
  {
   "cell_type": "markdown",
   "metadata": {},
   "source": [
    "# 평일빈도복잡도"
   ]
  },
  {
   "cell_type": "code",
   "execution_count": null,
   "metadata": {},
   "outputs": [],
   "source": [
    "# 평일빈도복잡도와 상세도로망 merge\n",
    "df25_traffic_frequency_road = []\n",
    "for i in df23_road['link_id']:\n",
    "    df25_traffic_frequency_road.append([i,sum(df25_traffic_frequency[df25_traffic_frequency['link_id'].apply(str).str.contains(i)]['frequency'])])\n",
    "    \n",
    "df25_traffic_frequency_road=pd.DataFrame(df25_traffic_frequency_road)\n",
    "df25_traffic_frequency_road.columns=['link_id','frequency']\n",
    "#road_info에 빈도복잡도 merge\n",
    "df_road_info=pd.merge(df_road_info,df25_traffic_frequency_road,on='link_id')\n",
    "df_road_info"
   ]
  },
  {
   "cell_type": "code",
   "execution_count": null,
   "metadata": {},
   "outputs": [],
   "source": [
    "layer = pdk.Layer(\n",
    "    'ScatterplotLayer',\n",
    "    df16_road_sign,\n",
    "    get_position=['lon', 'lat'],\n",
    "    get_radius=15,\n",
    "    get_fill_color=[180, 0, 200, 140],\n",
    "    pickable=True,\n",
    "    auto_highlight=True\n",
    "    )\n",
    "center=[127.0772,37.1498]\n",
    "view_state = pdk.ViewState( \n",
    "    longitude=center[0], \n",
    "    latitude=center[1], \n",
    "    zoom=10\n",
    ") \n",
    "r = pdk.Deck(layers=[layer], initial_view_state=view_state,\n",
    "             map_style='mapbox://styles/mapbox/outdoors-v11',\n",
    "             mapbox_key = \"pk.eyJ1IjoicmVib3JuMTk5OCIsImEiOiJja2oyZGppZ24wdHJ1MnRtaHU5dm92cnV0In0.8sNxBdHqt8JccQZB-oe3Cg\"\n",
    "            )\n",
    "\n",
    "r.to_html()"
   ]
  },
  {
   "cell_type": "markdown",
   "metadata": {},
   "source": [
    "# 위, 경도 데이터 geometry => point로 변환"
   ]
  },
  {
   "cell_type": "code",
   "execution_count": null,
   "metadata": {},
   "outputs": [],
   "source": [
    "# 12/24 정민 수정사항\n",
    "def location_to_point(df):\n",
    "    point_df = gpd.points_from_xy(df.lon, df.lat)\n",
    "    point_df = GeoSeries(point_df)\n",
    "    \n",
    "    col = df.columns\n",
    "    \n",
    "    loc_df = gpd.GeoDataFrame(df[col], geometry = point_df)\n",
    "    \n",
    "    return loc_df"
   ]
  },
  {
   "cell_type": "code",
   "execution_count": null,
   "metadata": {},
   "outputs": [],
   "source": [
    "A = location_to_point(school)"
   ]
  },
  {
   "cell_type": "code",
   "execution_count": null,
   "metadata": {},
   "outputs": [],
   "source": [
    "type(A)"
   ]
  },
  {
   "cell_type": "code",
   "execution_count": null,
   "metadata": {
    "scrolled": true
   },
   "outputs": [],
   "source": [
    "layer = pdk.Layer(\n",
    "    'ScatterplotLayer',\n",
    "    df16_road_sign,\n",
    "    get_position=['lon', 'lat'],\n",
    "    get_radius=15,\n",
    "    get_fill_color=[180, 0, 200, 140],\n",
    "    pickable=True,\n",
    "    auto_highlight=True\n",
    "    )\n",
    "center=[127.0772,37.1498]\n",
    "view_state = pdk.ViewState( \n",
    "    longitude=center[0], \n",
    "    latitude=center[1], \n",
    "    zoom=10\n",
    ") \n",
    "r1 = pdk.Deck(layers=[layer], initial_view_state=view_state,\n",
    "             map_style='mapbox://styles/mapbox/outdoors-v11',\n",
    "             mapbox_key = \"pk.eyJ1IjoicmVib3JuMTk5OCIsImEiOiJja2oyZGppZ24wdHJ1MnRtaHU5dm92cnV0In0.8sNxBdHqt8JccQZB-oe3Cg\"\n",
    "            )\n",
    "\n",
    "r1.to_html()"
   ]
  },
  {
   "cell_type": "markdown",
   "metadata": {},
   "source": [
    "# 학교, 학원, 체육시설등의 버퍼 범위 설정하기"
   ]
  },
  {
   "cell_type": "code",
   "execution_count": null,
   "metadata": {},
   "outputs": [],
   "source": []
  }
 ],
 "metadata": {
  "kernelspec": {
   "display_name": "Python 3",
   "language": "python",
   "name": "python3"
  },
  "language_info": {
   "codemirror_mode": {
    "name": "ipython",
    "version": 3
   },
   "file_extension": ".py",
   "mimetype": "text/x-python",
   "name": "python",
   "nbconvert_exporter": "python",
   "pygments_lexer": "ipython3",
   "version": "3.6.9"
  }
 },
 "nbformat": 4,
 "nbformat_minor": 4
}
