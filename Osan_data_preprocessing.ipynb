{
  "nbformat": 4,
  "nbformat_minor": 0,
  "metadata": {
    "kernelspec": {
      "display_name": "Python 3",
      "language": "python",
      "name": "python3"
    },
    "language_info": {
      "codemirror_mode": {
        "name": "ipython",
        "version": 3
      },
      "file_extension": ".py",
      "mimetype": "text/x-python",
      "name": "python",
      "nbconvert_exporter": "python",
      "pygments_lexer": "ipython3",
      "version": "3.7.6"
    },
    "colab": {
      "name": "Osan_data_preprocessing.ipynb",
      "provenance": [],
      "collapsed_sections": [],
      "include_colab_link": true
    }
  },
  "cells": [
    {
      "cell_type": "markdown",
      "metadata": {
        "id": "view-in-github",
        "colab_type": "text"
      },
      "source": [
        "<a href=\"https://colab.research.google.com/github/mack1210/COMPAS_CG/blob/master/Osan_data_preprocessing.ipynb\" target=\"_parent\"><img src=\"https://colab.research.google.com/assets/colab-badge.svg\" alt=\"Open In Colab\"/></a>"
      ]
    },
    {
      "cell_type": "markdown",
      "metadata": {
        "id": "bbqLnlpW5ONy"
      },
      "source": [
        "# 오산시 어린이 교통사고 위험지역 도출 "
      ]
    },
    {
      "cell_type": "markdown",
      "metadata": {
        "id": "m9TEQvjc5ON3"
      },
      "source": [
        "## 1. Data 불러오기"
      ]
    },
    {
      "cell_type": "code",
      "metadata": {
        "id": "7WdxmaNZ5ON4"
      },
      "source": [
        "#12/24 GeoSeries 추가\n",
        "from geoband.API import *\n",
        "import pandas as pd\n",
        "import folium\n",
        "import json\n",
        "import geopandas as gpd\n",
        "from geojson import Feature, FeatureCollection, Point, dump\n",
        "from geopandas import GeoSeries\n",
        "from shapely.geometry import Point\n",
        "import matplotlib.pyplot as plt\n",
        "import pydeck as pdk\n",
        "import shapely\n",
        "import numpy as np\n",
        "plt.rc(\"font\", family = \"Malgun Gothic\")\n",
        "%matplotlib inline\n",
        "import warnings\n",
        "warnings.filterwarnings(action='ignore') \n",
        "from sklearn.linear_model import LinearRegression\n",
        "from sklearn import linear_model"
      ],
      "execution_count": null,
      "outputs": []
    },
    {
      "cell_type": "code",
      "metadata": {
        "id": "0FE61FgV5ON4"
      },
      "source": [
        "# df1_parking=GetCompasData('SBJ_2012_001', '1', '1.오산시_주정차단속(2018~2020).csv')\n",
        "# df2_grid_accident=GetCompasData('SBJ_2012_001', '2', '2.오산시_어린이교통사고_격자.geojson')\n",
        "# df3_grid_car_enrollment=GetCompasData('SBJ_2012_001', '3', '3.오산시_차량등록현황_격자.geojson')\n",
        "# df4_pop=GetCompasData('SBJ_2012_001', '4', '4.오산시_연령별_거주인구격자(총인구).geojson')\n",
        "# df5_junior_pop=GetCompasData('SBJ_2012_001', '5', '5.오산시_연령별_거주인구격자(유소년).geojson')\n",
        "# df6_product_pop=GetCompasData('SBJ_2012_001', '6', '6.오산시_연령별_거주인구격자(생산가능인구).geojson')\n",
        "# df7_senior_pop=GetCompasData('SBJ_2012_001', '7', '7.오산시_연령별_거주인구격자(고령).geojson')\n",
        "# df8_floating_pop=GetCompasData('SBJ_2012_001', '8', '8.오산시_유동인구(2019).csv')\n",
        "# df9_protection_area=GetCompasData('SBJ_2012_001', '9', '9.오산시_어린이보호구역.csv')\n",
        "# df10_school=GetCompasData('SBJ_2012_001', '10', '10.오산시_학교위치정보.csv')\n",
        "# df11_elementary_district=GetCompasData('SBJ_2012_001', '11', '11.오산시_초등학교_통학구.geojson')\n",
        "# df12_middle_district=GetCompasData('SBJ_2012_001', '12', '12.오산시_중학교_학군.geojson')\n",
        "# df13_kinder=GetCompasData('SBJ_2012_001', '13', '13.오산시_어린이집_유치원현황.csv')\n",
        "# df14_weather=GetCompasData('SBJ_2012_001', '14', '14.오산시_기상데이터(2010~2019).csv')\n",
        "# df15_traffic_cctv=GetCompasData('SBJ_2012_001', '15', '15.오산시_무인교통단속카메라.csv')\n",
        "# df16_road_sign=GetCompasData('SBJ_2012_001', '16', '16.오산시_도로안전표지표준데이터.csv')\n",
        "# df17_crosswalk=GetCompasData('SBJ_2012_001', '17', '17.오산시_횡단보도.geojson')\n",
        "# df18_speed_bump=GetCompasData('SBJ_2012_001', '18', '18.오산시_과속방지턱표준데이터.csv')\n",
        "# df19_traffic_light=GetCompasData('SBJ_2012_001', '19', '19.오산시_신호등.geojson')\n",
        "# df20_cctv=GetCompasData('SBJ_2012_001', '20', '20.오산시_CCTV설치현황.csv')\n",
        "# df21_sidewalk=GetCompasData('SBJ_2012_001', '21', '21.오산시_인도.geojson')\n",
        "# df22_bus_stop=GetCompasData('SBJ_2012_001', '22', '22.오산시_버스정류장.csv')\n",
        "# df23_road=GetCompasData('SBJ_2012_001', '23', '23.오산시_상세도로망_LV6.geojson')\n",
        "# df24_traffic=GetCompasData('SBJ_2012_001', '24', '24.평일_전일,시간대별_오산시_추정교통량_Level6.csv')\n",
        "# df25_traffic_frequency=GetCompasData('SBJ_2012_001', '25', '25.평일_전일_오산시_혼잡빈도강도_Level6.csv')\n",
        "# df26_traffic_time=GetCompasData('SBJ_2012_001', '26', '26.평일_전일_오산시_혼잡시간강도_Level6.csv')\n",
        "# df27_building=GetCompasData('SBJ_2012_001', '27', '27.오산시_도로명주소_건물.geojson')\n",
        "# df28_grid_building=GetCompasData('SBJ_2012_001', '28', '28.오산시_건물연면적_격자.geojson')\n",
        "# df29_sports=GetCompasData('SBJ_2012_001', '29', '29.오산시_체육시설현황.csv')\n",
        "# df30_academy=GetCompasData('SBJ_2012_001', '30', '30.오산시_학원_및_교습소_현황.csv')\n",
        "# df31_le_sig=GetCompasData('SBJ_2012_001', '31', '31.오산시_법정경계(시군구).geojson')\n",
        "# df32_admin_emd=GetCompasData('SBJ_2012_001', '32', '32.오산시_행정경계(읍면동).geojson')\n",
        "# df33_legal_emd=GetCompasData('SBJ_2012_001', '33', '33.오산시_법정경계(읍면동).geojson')\n",
        "# df34_cadastral_map=GetCompasData('SBJ_2012_001', '34', '34.오산시_지적도.geojson')"
      ],
      "execution_count": null,
      "outputs": []
    },
    {
      "cell_type": "code",
      "metadata": {
        "id": "p1UAoR3z5ON5"
      },
      "source": [
        "df1_parking=pd.read_csv('1.오산시_주정차단속(2018~2020).csv')\n",
        "df2_grid_accident=gpd.read_file('2.오산시_어린이교통사고_격자.geojson')\n",
        "df3_grid_car_enrollment=gpd.read_file('3.오산시_차량등록현황_격자.geojson')\n",
        "df4_pop=gpd.read_file('4.오산시_연령별_거주인구격자(총인구).geojson')\n",
        "df5_junior_pop=gpd.read_file('5.오산시_연령별_거주인구격자(유소년).geojson')\n",
        "df6_product_pop=gpd.read_file('6.오산시_연령별_거주인구격자(생산가능인구).geojson')\n",
        "df7_senior_pop=gpd.read_file('7.오산시_연령별_거주인구격자(고령).geojson')\n",
        "df8_floating_pop=pd.read_csv('8.오산시_유동인구(2019).csv')\n",
        "df9_protection_area=pd.read_csv('9.오산시_어린이보호구역.csv')\n",
        "df10_school=pd.read_csv('10.오산시_학교위치정보.csv')\n",
        "df11_elementary_district=gpd.read_file('11.오산시_초등학교_통학구.geojson')\n",
        "df12_middle_district=gpd.read_file('12.오산시_중학교_학군.geojson')\n",
        "df13_kinder=pd.read_csv('13.오산시_어린이집_유치원현황.csv')\n",
        "df14_weather=pd.read_csv('14.오산시_기상데이터(2010~2019).csv')\n",
        "df15_traffic_cctv=pd.read_csv('15.오산시_무인교통단속카메라.csv')\n",
        "df16_road_sign=pd.read_csv('16.오산시_도로안전표지표준데이터.csv')\n",
        "df17_crosswalk=gpd.read_file('17.오산시_횡단보도.geojson')\n",
        "df18_speed_bump=pd.read_csv('18.오산시_과속방지턱표준데이터.csv')\n",
        "df19_traffic_light=gpd.read_file('19.오산시_신호등.geojson')\n",
        "df20_cctv=pd.read_csv('20.오산시_CCTV설치현황.csv')\n",
        "df21_sidewalk=gpd.read_file('21.오산시_인도.geojson')\n",
        "df22_bus_stop=pd.read_csv('22.오산시_버스정류장.csv')\n",
        "df23_road=gpd.read_file('23.오산시_상세도로망_LV6.geojson')\n",
        "df24_traffic=pd.read_csv('24.평일_전일,시간대별_오산시_추정교통량_Level6.csv')\n",
        "df25_traffic_frequency=pd.read_csv('25.평일_전일_오산시_혼잡빈도강도_Level6.csv')\n",
        "df26_traffic_time=pd.read_csv('26.평일_전일_오산시_혼잡시간강도_Level6.csv')\n",
        "df27_building=gpd.read_file('27.오산시_도로명주소_건물.geojson')\n",
        "df28_grid_building=gpd.read_file('28.오산시_건물연면적_격자.geojson')\n",
        "df29_sports=pd.read_csv('29.오산시_체육시설현황.csv')\n",
        "df30_academy=pd.read_csv('30.오산시_학원_및_교습소_현황.csv')\n",
        "df31_le_sig=gpd.read_file('31.오산시_법정경계(시군구).geojson')\n",
        "df32_admin_emd=gpd.read_file('32.오산시_행정경계(읍면동).geojson')\n",
        "df33_legal_emd=gpd.read_file('33.오산시_법정경계(읍면동).geojson')"
      ],
      "execution_count": null,
      "outputs": []
    },
    {
      "cell_type": "code",
      "metadata": {
        "id": "AZElcbjhMC8Z"
      },
      "source": [
        "# 좌표계 설정\r\n",
        "df1_parking.crs = {'init':'epsg:4326'}\r\n",
        "df2_grid_accident.crs = {'init':'epsg:4326'}\r\n",
        "df3_grid_car_enrollment.crs = {'init':'epsg:4326'}\r\n",
        "df4_pop.crs = {'init':'epsg:4326'}\r\n",
        "df5_junior_pop.crs = {'init':'epsg:4326'}\r\n",
        "df6_product_pop.crs = {'init':'epsg:4326'}\r\n",
        "df7_senior_pop.crs = {'init':'epsg:4326'}\r\n",
        "df8_floating_pop.crs = {'init':'epsg:4326'}\r\n",
        "df9_protection_area.crs = {'init':'epsg:4326'}\r\n",
        "df10_school.crs = {'init':'epsg:4326'}\r\n",
        "df11_elementary_district.crs = {'init':'epsg:4326'}\r\n",
        "df12_middle_district.crs = {'init':'epsg:4326'}\r\n",
        "df13_kinder.crs = {'init':'epsg:4326'}\r\n",
        "df14_weather.crs = {'init':'epsg:4326'}\r\n",
        "df15_traffic_cctv.crs = {'init':'epsg:4326'}\r\n",
        "df16_road_sign.crs = {'init':'epsg:4326'}\r\n",
        "df17_crosswalk.crs = {'init':'epsg:4326'}\r\n",
        "df18_speed_bump.crs = {'init':'epsg:4326'}\r\n",
        "df19_traffic_light.crs = {'init':'epsg:4326'}\r\n",
        "df20_cctv.crs = {'init':'epsg:4326'}\r\n",
        "df21_sidewalk.crs = {'init':'epsg:4326'}\r\n",
        "df22_bus_stop.crs = {'init':'epsg:4326'}\r\n",
        "df23_road.crs = {'init':'epsg:4326'}\r\n",
        "df24_traffic.crs = {'init':'epsg:4326'}\r\n",
        "df25_traffic_frequency.crs = {'init':'epsg:4326'}\r\n",
        "df26_traffic_time.crs = {'init':'epsg:4326'}\r\n",
        "df27_building.crs = {'init':'epsg:4326'}\r\n",
        "df28_grid_building.crs = {'init':'epsg:4326'}\r\n",
        "df29_sports.crs = {'init':'epsg:4326'}\r\n",
        "df30_academy.crs = {'init':'epsg:4326'}\r\n",
        "df31_le_sig.crs = {'init':'epsg:4326'}\r\n",
        "df32_admin_emd.crs = {'init':'epsg:4326'}\r\n",
        "df33_legal_emd.crs = {'init':'epsg:4326'}"
      ],
      "execution_count": null,
      "outputs": []
    },
    {
      "cell_type": "markdown",
      "metadata": {
        "id": "JMnjJSbu5ON5"
      },
      "source": [
        "## 2. 분석 기초 함수"
      ]
    },
    {
      "cell_type": "markdown",
      "metadata": {
        "id": "LUF_9ivg5ON6"
      },
      "source": [
        "### 1) pydeck 사용을 위해 geometry의 Point, Multilinestring, Multipolygon을 coordinates로 바꿔주기 위한 함수 선언"
      ]
    },
    {
      "cell_type": "code",
      "metadata": {
        "id": "aUzuoLAS5ON6"
      },
      "source": [
        "# 12/25 창균 추가\n",
        "def POINT_to_coordinates(geo_data):\n",
        "    geo_data['lat'] = geo_data['geometry'].apply(lambda coord: coord.y)\n",
        "    geo_data['lon'] = geo_data['geometry'].apply(lambda coord: coord.x)\n",
        "    return geo_data\n",
        "\n",
        "# 사용 예\n",
        "# df19_traffic_light = POINT_to_coordinates(df19_traffic_light)"
      ],
      "execution_count": null,
      "outputs": []
    },
    {
      "cell_type": "code",
      "metadata": {
        "id": "LHNAWzAT5ON6"
      },
      "source": [
        "# 12/25 창균 추가\n",
        "def MULTILINESTRING_to_coordinates(line_string):\n",
        "    if isinstance(line_string, shapely.geometry.linestring.LineString):\n",
        "        lon, lat = line_string.xy\n",
        "        return [[x, y] for x, y in zip(lon, lat)]\n",
        "    elif isinstance(line_string, shapely.geometry.multilinestring.MultiLineString):\n",
        "        ret = []\n",
        "        for i in range(len(line_string)):\n",
        "            lon, lat = line_string[i].xy\n",
        "            for x, y in zip(lon, lat):\n",
        "                ret.append([x, y])\n",
        "        return ret\n",
        "    \n",
        "# 사용 예\n",
        "# df23_road['coordinates'] = df23_road['geometry'].apply(MULTILINESTRING_to_coordinates)\n",
        "# df23_road = pd.DataFrame(df23_road) # geopanadas 가 아닌 pandas 의 데이터프레임으로 꼭 바꿔줘야 합니다."
      ],
      "execution_count": null,
      "outputs": []
    },
    {
      "cell_type": "code",
      "metadata": {
        "id": "i2DwqAk75ON6"
      },
      "source": [
        "# 12/25 창균 추가\n",
        "def MULTIPOLYGON_to_coordinates(x):\n",
        "    lon, lat = x[0].exterior.xy\n",
        "    return [[x, y] for x, y in zip(lon, lat)]\n",
        "\n",
        "# 사용 예\n",
        "# df_osan_grid['coordinates'] = df_osan_grid['geometry'].apply(MULTIPOLYGON_to_coordinates)\n",
        "# df_osan_grid = pd.DataFrame(df_osan_grid) # geopanadas 가 아닌 pandas 의 데이터프레임으로 꼭 바꿔줘야 합니다."
      ],
      "execution_count": null,
      "outputs": []
    },
    {
      "cell_type": "markdown",
      "metadata": {
        "id": "_wZg_uln5ON7"
      },
      "source": [
        "### 2) 각각의 df의 lon, lat을 geometry의 point로 변환"
      ]
    },
    {
      "cell_type": "code",
      "metadata": {
        "id": "0GTBvGjT5ON7"
      },
      "source": [
        "# 12/24 정민 수정사항\n",
        "def location_to_point(df):\n",
        "    point_df = gpd.points_from_xy(df.lon, df.lat)\n",
        "    point_df = GeoSeries(point_df)\n",
        "    \n",
        "    col = df.columns\n",
        "    \n",
        "    loc_df = gpd.GeoDataFrame(df[col], geometry = point_df)\n",
        "    \n",
        "    return loc_df"
      ],
      "execution_count": null,
      "outputs": []
    },
    {
      "cell_type": "markdown",
      "metadata": {
        "id": "4LDSWZrb5ON7"
      },
      "source": [
        "### 3) sjoin : 격자내 존재하는 좌표 개수의 합을 구하는 함수"
      ]
    },
    {
      "cell_type": "code",
      "metadata": {
        "id": "BsyQyH965ON7"
      },
      "source": [
        "def sjoin(grid_info,df, new_col_name, option = 'contains'):\n",
        "    joined= gpd.sjoin(grid_info,df, op=option)\n",
        "    result = joined.groupby('gid').size()\n",
        "    result = result.to_frame().reset_index()\n",
        "    grid_info=pd.merge(grid_info,result, how='outer',on='gid')\n",
        "    \n",
        "    grid_info = grid_info.rename(columns = {0:new_col_name})\n",
        "    grid_info=grid_info.fillna(0)\n",
        "    \n",
        "    return grid_info"
      ],
      "execution_count": null,
      "outputs": []
    },
    {
      "cell_type": "markdown",
      "metadata": {
        "id": "s5Miwf1h5ON8"
      },
      "source": [
        "## 3. 목적에 맞는 데이터 전처리"
      ]
    },
    {
      "cell_type": "markdown",
      "metadata": {
        "id": "CkVd-el05ON8"
      },
      "source": [
        "### 기본 그리드 생성"
      ]
    },
    {
      "cell_type": "code",
      "metadata": {
        "id": "Aol07yLS5ON8"
      },
      "source": [
        "#지도에 맵핑할 격자들 만들기\n",
        "# 12/25 창균 추가\n",
        "df_osan_grid=df4_pop.drop('val',axis=1)\n",
        "\n",
        "# geometry to coordinates\n",
        "df_osan_grid['coordinates'] = df_osan_grid['geometry'].apply(MULTIPOLYGON_to_coordinates)\n",
        "# df_osan_grid = pd.DataFrame(df_osan_grid)\n",
        "\n",
        "df_osan_grid.head(5)"
      ],
      "execution_count": null,
      "outputs": []
    },
    {
      "cell_type": "markdown",
      "metadata": {
        "id": "mErw2sHU5ON8"
      },
      "source": [
        "### df1 오산시 주정차 단속"
      ]
    },
    {
      "cell_type": "code",
      "metadata": {
        "id": "hYae9bhP5ON8"
      },
      "source": [
        "#df1 오산시 주정차 단속\n",
        "# 12/25 창균 추가\n",
        "df1_parking.columns=['date','parking_location','admin_area','school_zone',\n",
        "                 'lon','lat','parking_type']\n",
        "\n",
        "#스쿨존에 해당하면 1 아니면 0\n",
        "df1_parking.loc[df1_parking['school_zone']=='N','school_zone']=0\n",
        "df1_parking.loc[df1_parking['school_zone']=='Y','school_zone']=1\n",
        "\n",
        "# 오산시 유탑유블레스 남측 좌표 삽입 (널 처리)\n",
        "df1_parking[\"lon\"].fillna(127.072291, inplace = True)\n",
        "df1_parking[\"lat\"].fillna(37.141363, inplace = True)\n",
        "\n",
        "df1_parking = location_to_point(df1_parking)\n",
        "df1_parking.head()"
      ],
      "execution_count": null,
      "outputs": []
    },
    {
      "cell_type": "markdown",
      "metadata": {
        "id": "faKOygGo5ON8"
      },
      "source": [
        "### df4 인구, df5 유소년 인구, df6 생산가능인구, df7 노인 인구 - 인구수 변수 이름 변경 및 널처리"
      ]
    },
    {
      "cell_type": "code",
      "metadata": {
        "id": "-Ifk_xMg5ON9"
      },
      "source": [
        "#나중에 비율 구할때 써야됨\n",
        "#val값에 null은 측정이 안된 곳이기에 0으로 처리해줌-SY\n",
        "# 12/25 창균 추가\n",
        "df4_pop=df4_pop.rename(columns={'val':'pop_val'})\n",
        "df4_pop=df4_pop.fillna(0)\n",
        "# geometry to coordinates\n",
        "df4_pop['coordinates'] = df4_pop['geometry'].apply(MULTIPOLYGON_to_coordinates)\n",
        "# df4_pop = pd.DataFrame(df4_pop)\n",
        "\n",
        "df5_junior_pop=df5_junior_pop.rename(columns={'val':'junior_val'})\n",
        "df5_junior_pop=df5_junior_pop.fillna(0)\n",
        "# geometry to coordinates\n",
        "df5_junior_pop['coordinates'] = df5_junior_pop['geometry'].apply(MULTIPOLYGON_to_coordinates)\n",
        "# df5_junior_pop = pd.DataFrame(df5_junior_pop)\n",
        "\n",
        "df6_product_pop=df6_product_pop.rename(columns={'val':'product_val'})\n",
        "df6_product_pop=df6_product_pop.fillna(0)\n",
        "# geometry to coordinates\n",
        "df6_product_pop['coordinates'] = df6_product_pop['geometry'].apply(MULTIPOLYGON_to_coordinates)\n",
        "# df6_product_pop = pd.DataFrame(df6_product_pop)\n",
        "\n",
        "df7_senior_pop=df7_senior_pop.rename(columns={'val':'senior_val'})\n",
        "df7_senior_pop=df7_senior_pop.fillna(0)\n",
        "# geometry to coordinates\n",
        "df7_senior_pop['coordinates'] = df7_senior_pop['geometry'].apply(MULTIPOLYGON_to_coordinates)\n",
        "# df7_senior_pop = pd.DataFrame(df7_senior_pop)"
      ],
      "execution_count": null,
      "outputs": []
    },
    {
      "cell_type": "code",
      "metadata": {
        "id": "-Q3YpDSS5ON9"
      },
      "source": [
        "# 정민 수정사항(12/21)\n",
        "# 오산시 격자별 유소년 인구수/총 인구수 데이터 전처리\n",
        "df_junior_ratio_pop = df5_junior_pop.merge(df4_pop, on ='gid')\n",
        "df_junior_ratio_pop = df_junior_ratio_pop.drop(['geometry_x', 'coordinates_x'], axis = 1)\n",
        "df_junior_ratio_pop.columns = ['gid', 'junior_val', 'pop_val', 'geometry', 'coordinates']\n",
        "\n",
        "# 비율 컬럼 생성\n",
        "df_junior_ratio_pop['junior_ratio'] = df_junior_ratio_pop['junior_val']/df_junior_ratio_pop['pop_val'] * 100\n",
        "df_junior_ratio_pop['junior_ratio'].value_counts()\n",
        "df_junior_ratio_pop=df_junior_ratio_pop.fillna(0)\n",
        "\n",
        "# geometry to coordinates\n",
        "df_junior_ratio_pop['coordinates'] = df_junior_ratio_pop['geometry'].apply(MULTIPOLYGON_to_coordinates)\n",
        "# df_junior_ratio_pop = pd.DataFrame(df_junior_ratio_pop)\n",
        "\n",
        "df_junior_ratio_pop"
      ],
      "execution_count": null,
      "outputs": []
    },
    {
      "cell_type": "code",
      "metadata": {
        "id": "1HLk-7hI5ON_"
      },
      "source": [
        "# 주니어 인구비율 분포확인\n",
        "%matplotlib inline\n",
        "df_junior_ratio_pop[\"junior_ratio\"].plot(xlabel = \"gid\", ylabel = \"junior population ratio to total population\")"
      ],
      "execution_count": null,
      "outputs": []
    },
    {
      "cell_type": "markdown",
      "metadata": {
        "id": "48-YZzXA5ON_"
      },
      "source": [
        "### df8 유동인구"
      ]
    },
    {
      "cell_type": "code",
      "metadata": {
        "id": "yObv_a_O5OOA"
      },
      "source": [
        "#합치는 코드 있어서 한번만 돌려야됨\n",
        "#유동인구\n",
        "df_col_list=list(df8_floating_pop)\n",
        "df_col_list_all=df_col_list[3:]\n",
        "df_col_list_8_23=df_col_list[11:26]\n",
        "df_col_list_14_20=df_col_list[17:23]\n",
        "\n",
        "#모든 시간대 유동인구\n",
        "df8_floating_pop['all']=df8_floating_pop[df_col_list_all].sum(axis=1)\n",
        "\n",
        "#아이들의 이동시간\n",
        "df8_floating_pop['8_23']=df8_floating_pop[df_col_list_8_23].sum(axis=1)\n",
        "\n",
        "#사고가 가장 많이 일어나는 14~20\n",
        "df8_floating_pop['14_20']=df8_floating_pop[df_col_list_14_20].sum(axis=1)\n",
        "df8_floating_pop=df8_floating_pop.rename(columns={'STD_YM':'YM','lon':'lon','lat':'lat'})\n",
        "\n",
        "#lat, lon to point & pd.DataFrame to gpd.GeodataFrame\n",
        "df8_floating_pop = location_to_point(df8_floating_pop)\n",
        "\n",
        "df8_floating_pop"
      ],
      "execution_count": null,
      "outputs": []
    },
    {
      "cell_type": "markdown",
      "metadata": {
        "id": "nzngSBuf5OOA"
      },
      "source": [
        "### df9 어린이 보호구역"
      ]
    },
    {
      "cell_type": "code",
      "metadata": {
        "id": "RdBsocLl5OOA"
      },
      "source": [
        "#어린이 보호구역\n",
        "df9_protection_area.columns=['protection_type','protection_name','protection_cctv',\n",
        "                         'protection_cctv_count','width','lon','lat']\n",
        "#cctv 있으면 1 없으면 0\n",
        "df9_protection_area.loc[df9_protection_area['protection_cctv']=='N','protection_cctv']=0\n",
        "df9_protection_area.loc[df9_protection_area['protection_cctv']=='Y','protection_cctv']=1\n",
        "\n",
        "# object typecasting to int\n",
        "df9_protection_area['protection_cctv'] = df9_protection_area['protection_cctv'].astype('int')\n",
        "\n",
        "#lat, lon to point & pd.DataFrame to gpd.GeodataFrame\n",
        "df9_protection_area = location_to_point(df9_protection_area)\n",
        "\n",
        "df9_protection_area"
      ],
      "execution_count": null,
      "outputs": []
    },
    {
      "cell_type": "markdown",
      "metadata": {
        "id": "5kM_YoWH5OOA"
      },
      "source": [
        "### df10 학교 위치정보"
      ]
    },
    {
      "cell_type": "code",
      "metadata": {
        "id": "mSrvxhqD5OOB"
      },
      "source": [
        "# 학교 위치정보\n",
        "# 중학교와 고등학교는 비대상으로 drop 처리\n",
        "a=df10_school.loc[df10_school['학교구분'].isin(['고등학교','중학교'])].index\n",
        "df10_school=df10_school.drop(a)\n",
        "df10_school.columns=['school_type','school_name','lon','lat']\n",
        "df10_school = df10_school.reset_index(drop=True)\n",
        "\n",
        "#lat, lon to point & pd.DataFrame to gpd.GeodataFrame\n",
        "df10_school = location_to_point(df10_school)\n",
        "\n",
        "df10_school"
      ],
      "execution_count": null,
      "outputs": []
    },
    {
      "cell_type": "markdown",
      "metadata": {
        "id": "7oaZkwQJ5OOB"
      },
      "source": [
        "### df11 초등학교 통학구"
      ]
    },
    {
      "cell_type": "code",
      "metadata": {
        "id": "xgSWbWTT5OOB",
        "colab": {
          "base_uri": "https://localhost:8080/",
          "height": 239
        },
        "outputId": "52129336-1a17-4f81-e7ea-d8f9e962d08a"
      },
      "source": [
        "# 초등학교 통학구\n",
        "# type이 0이면 단독 통학구 1이면 다중 통학구로 예상됨\n",
        "df11_elementary_district.columns=['ed_objectid','district_id','ed_name','ed_type','geometry']\n",
        "df11_elementary_district['coordinates'] = df11_elementary_district['geometry'].apply(MULTIPOLYGON_to_coordinates)\n",
        "\n",
        "# object typecasting to int\n",
        "df11_elementary_district['ed_type'] = df11_elementary_district['ed_type'].astype('int')\n",
        "df11_elementary_district.head()"
      ],
      "execution_count": null,
      "outputs": [
        {
          "output_type": "error",
          "ename": "NameError",
          "evalue": "ignored",
          "traceback": [
            "\u001b[0;31m---------------------------------------------------------------------------\u001b[0m",
            "\u001b[0;31mNameError\u001b[0m                                 Traceback (most recent call last)",
            "\u001b[0;32m<ipython-input-4-173e4e1b68d1>\u001b[0m in \u001b[0;36m<module>\u001b[0;34m()\u001b[0m\n\u001b[1;32m      1\u001b[0m \u001b[0;31m# 초등학교 통학구\u001b[0m\u001b[0;34m\u001b[0m\u001b[0;34m\u001b[0m\u001b[0;34m\u001b[0m\u001b[0m\n\u001b[1;32m      2\u001b[0m \u001b[0;31m#type이 0이면 단독 통학구 1이면 다중 통학구로 예상됨\u001b[0m\u001b[0;34m\u001b[0m\u001b[0;34m\u001b[0m\u001b[0;34m\u001b[0m\u001b[0m\n\u001b[0;32m----> 3\u001b[0;31m \u001b[0mdf11_elementary_district\u001b[0m\u001b[0;34m.\u001b[0m\u001b[0mcolumns\u001b[0m\u001b[0;34m=\u001b[0m\u001b[0;34m[\u001b[0m\u001b[0;34m'ed_objectid'\u001b[0m\u001b[0;34m,\u001b[0m\u001b[0;34m'district_id'\u001b[0m\u001b[0;34m,\u001b[0m\u001b[0;34m'ed_name'\u001b[0m\u001b[0;34m,\u001b[0m\u001b[0;34m'ed_type'\u001b[0m\u001b[0;34m,\u001b[0m\u001b[0;34m'geometry'\u001b[0m\u001b[0;34m]\u001b[0m\u001b[0;34m\u001b[0m\u001b[0;34m\u001b[0m\u001b[0m\n\u001b[0m\u001b[1;32m      4\u001b[0m \u001b[0mdf11_elementary_district\u001b[0m\u001b[0;34m[\u001b[0m\u001b[0;34m'coordinates'\u001b[0m\u001b[0;34m]\u001b[0m \u001b[0;34m=\u001b[0m \u001b[0mdf11_elementary_district\u001b[0m\u001b[0;34m[\u001b[0m\u001b[0;34m'geometry'\u001b[0m\u001b[0;34m]\u001b[0m\u001b[0;34m.\u001b[0m\u001b[0mapply\u001b[0m\u001b[0;34m(\u001b[0m\u001b[0mMULTIPOLYGON_to_coordinates\u001b[0m\u001b[0;34m)\u001b[0m\u001b[0;34m\u001b[0m\u001b[0;34m\u001b[0m\u001b[0m\n\u001b[1;32m      5\u001b[0m \u001b[0mdf11_elementary_district\u001b[0m \u001b[0;34m=\u001b[0m \u001b[0mpd\u001b[0m\u001b[0;34m.\u001b[0m\u001b[0mDataFrame\u001b[0m\u001b[0;34m(\u001b[0m\u001b[0mdf11_elementary_district\u001b[0m\u001b[0;34m)\u001b[0m\u001b[0;34m\u001b[0m\u001b[0;34m\u001b[0m\u001b[0m\n",
            "\u001b[0;31mNameError\u001b[0m: name 'df11_elementary_district' is not defined"
          ]
        }
      ]
    },
    {
      "cell_type": "markdown",
      "metadata": {
        "id": "yx0DGray5OOB"
      },
      "source": [
        "### df13 어린이집 유치원 현황"
      ]
    },
    {
      "cell_type": "code",
      "metadata": {
        "id": "IA3JPcse5OOB"
      },
      "source": [
        "# 어린이집 유치원현황\n",
        "df13_kinder=df13_kinder.drop('시설타입',axis=1)\n",
        "df13_kinder.columns=['kinder_type','kinder_name','lon','lat']\n",
        "\n",
        "#lat, lon to point & pd.DataFrame to gpd.GeodataFrame\n",
        "df13_kinder = location_to_point(df13_kinder)\n",
        "\n",
        "df13_kinder"
      ],
      "execution_count": null,
      "outputs": []
    },
    {
      "cell_type": "markdown",
      "metadata": {
        "id": "q25HMJYJ5OOB"
      },
      "source": [
        "### df15 무인교통 단속 카메라"
      ]
    },
    {
      "cell_type": "code",
      "metadata": {
        "id": "Ogsr2t-D5OOB"
      },
      "source": [
        "#무인교통 단속 카메라\n",
        "df15_traffic_cctv=df15_traffic_cctv.drop(['도로노선방향','단속구분'],axis=1)\n",
        "df15_traffic_cctv.columns=['tc_road_name','tc_location_name','lon','lat']\n",
        "\n",
        "#lat, lon to point & pd.DataFrame to gpd.GeodataFrame\n",
        "df15_traffic_cctv = location_to_point(df15_traffic_cctv)\n",
        "\n",
        "df15_traffic_cctv"
      ],
      "execution_count": null,
      "outputs": []
    },
    {
      "cell_type": "markdown",
      "metadata": {
        "id": "1l9pPNYF5OOC"
      },
      "source": [
        "### df16 도로안전표지 표준 데이터"
      ]
    },
    {
      "cell_type": "code",
      "metadata": {
        "id": "Zz6ilxoU5OOC",
        "colab": {
          "base_uri": "https://localhost:8080/",
          "height": 204
        },
        "outputId": "af9b9375-a1b5-4b40-a92b-f5bd8c9b50d5"
      },
      "source": [
        "#도로안전표지 표준데이터\n",
        "df16_road_sign.columns=['road_sign_num','road_sign_type','lon','lat']\n",
        "\n",
        "#lat, lon to point & pd.DataFrame to gpd.GeodataFrame\n",
        "df16_road_sign = location_to_point(df16_road_sign)\n",
        "\n",
        "df16_road_sign"
      ],
      "execution_count": null,
      "outputs": [
        {
          "output_type": "error",
          "ename": "NameError",
          "evalue": "ignored",
          "traceback": [
            "\u001b[0;31m---------------------------------------------------------------------------\u001b[0m",
            "\u001b[0;31mNameError\u001b[0m                                 Traceback (most recent call last)",
            "\u001b[0;32m<ipython-input-5-ca8a43b73b8e>\u001b[0m in \u001b[0;36m<module>\u001b[0;34m()\u001b[0m\n\u001b[1;32m      1\u001b[0m \u001b[0;31m#도로안전표지 표준데이터\u001b[0m\u001b[0;34m\u001b[0m\u001b[0;34m\u001b[0m\u001b[0;34m\u001b[0m\u001b[0m\n\u001b[0;32m----> 2\u001b[0;31m \u001b[0mdf16_road_sign\u001b[0m\u001b[0;34m.\u001b[0m\u001b[0mcolumns\u001b[0m\u001b[0;34m=\u001b[0m\u001b[0;34m[\u001b[0m\u001b[0;34m'road_sign_num'\u001b[0m\u001b[0;34m,\u001b[0m\u001b[0;34m'road_sign_type'\u001b[0m\u001b[0;34m,\u001b[0m\u001b[0;34m'lon'\u001b[0m\u001b[0;34m,\u001b[0m\u001b[0;34m'lat'\u001b[0m\u001b[0;34m]\u001b[0m\u001b[0;34m\u001b[0m\u001b[0;34m\u001b[0m\u001b[0m\n\u001b[0m\u001b[1;32m      3\u001b[0m \u001b[0mdf16_road_sign\u001b[0m\u001b[0;34m\u001b[0m\u001b[0;34m\u001b[0m\u001b[0m\n",
            "\u001b[0;31mNameError\u001b[0m: name 'df16_road_sign' is not defined"
          ]
        }
      ]
    },
    {
      "cell_type": "markdown",
      "metadata": {
        "id": "4epozueM5OOC"
      },
      "source": [
        "### df17 횡단보도"
      ]
    },
    {
      "cell_type": "code",
      "metadata": {
        "id": "UqorlgAe5OOC"
      },
      "source": [
        "#횡단보도\n",
        "## 창균 추가 수정 (12.22)\n",
        "df17_crosswalk.columns=['crosswalk_objectid','geometry']\n",
        "df17_crosswalk"
      ],
      "execution_count": null,
      "outputs": []
    },
    {
      "cell_type": "markdown",
      "metadata": {
        "id": "13J5mXgU5OOC"
      },
      "source": [
        "### df18 과속방지턱 표준데이터"
      ]
    },
    {
      "cell_type": "code",
      "metadata": {
        "id": "uPw4bzHY5OOC"
      },
      "source": [
        "#과속방지턱표준데이터\n",
        "df18_speed_bump.columns=['bump_road_name','bump_location_name','bump_height','bump_width',\n",
        "                   'bump_length','bump_sep','bump_continue','lon','lat']\n",
        "#과속방지턱 보차분리여부,연속형 여부 0,1로 변환\n",
        "df18_speed_bump.loc[df18_speed_bump['bump_sep']=='N','bump_sep']=0\n",
        "df18_speed_bump.loc[df18_speed_bump['bump_sep']=='Y','bump_sep']=1\n",
        "df18_speed_bump.loc[df18_speed_bump['bump_continue']=='N','bump_continue']=0\n",
        "df18_speed_bump.loc[df18_speed_bump['bump_continue']=='Y','bump_continue']=1\n",
        "\n",
        "# object typecasting to int\n",
        "df18_speed_bump['bump_sep'] = df18_speed_bump['bump_sep'].astype('int')\n",
        "df18_speed_bump['bump_continue'] = df18_speed_bump['bump_continue'].astype('int')\n",
        "\n",
        "#lat, lon to point & pd.DataFrame to gpd.GeodataFrame\n",
        "df18_speed_bump = location_to_point(df18_speed_bump)\n",
        "\n",
        "df18_speed_bump"
      ],
      "execution_count": null,
      "outputs": []
    },
    {
      "cell_type": "markdown",
      "metadata": {
        "id": "OoPNUIKA5OOD"
      },
      "source": [
        "### df19 신호등"
      ]
    },
    {
      "cell_type": "code",
      "metadata": {
        "id": "q7WfNsnj5OOD"
      },
      "source": [
        "#신호등\n",
        "## 창균 추가 수정 (12.22)\n",
        "## 창균 추가 수정 (12/25)\n",
        "df19_traffic_light.columns=['traffic_light_objectid','geometry']\n",
        "\n",
        "# geometry to coordinates\n",
        "df19_traffic_light = POINT_to_coordinates(df19_traffic_light)\n",
        "\n",
        "# geometry to coordinates\n",
        "df19_traffic_light = POINT_to_coordinates(df19_traffic_light)\n",
        "# df19_traffic_light = pd.DataFrame(df19_traffic_light)\n",
        "\n",
        "df19_traffic_light"
      ],
      "execution_count": null,
      "outputs": []
    },
    {
      "cell_type": "markdown",
      "metadata": {
        "id": "Ady_v2gI5OOD"
      },
      "source": [
        "### df20 cctv"
      ]
    },
    {
      "cell_type": "code",
      "metadata": {
        "id": "DKL2-Awv5OOD"
      },
      "source": [
        "#cctv\n",
        "# location_to_point 함수에서 위도 경도를 point로 가져오려면 각 df의 특성에 맞는 이름인 df_lat, df_lon가 아니라 lat, lon으로 정해준다.\n",
        "# cctv_type A: 방범 B:도시공원 C:어린이보호 D:차량방범\n",
        "df20_cctv.columns=['cctv_type','cctv_road_name','lat','lon']\n",
        "#cctv_lat,lon에서 중복적으로 결측값이 나와서 drop, road_name도 null값 nan으로 처리-SY\n",
        "df20_cctv=df20_cctv.drop([500,567],axis=0)\n",
        "df20_cctv=df20_cctv.fillna('NaN')\n",
        "\n",
        "#lat, lon to point & pd.DataFrame to gpd.GeodataFrame\n",
        "df20_cctv = location_to_point(df20_cctv)\n",
        "\n",
        "df20_cctv"
      ],
      "execution_count": null,
      "outputs": []
    },
    {
      "cell_type": "markdown",
      "metadata": {
        "id": "0lWq8nIV5OOE"
      },
      "source": [
        "### df21 인도"
      ]
    },
    {
      "cell_type": "code",
      "metadata": {
        "id": "v_Es0SH95OOE"
      },
      "source": [
        "#인도\n",
        "df21_sidewalk=df21_sidewalk.drop('QUAL',axis=1)\n",
        "df21_sidewalk.columns=['sidewalk_id','sidewalk_bicycle',\n",
        "                  'sidewalk_type','geometry']\n",
        "#자전거 도로유무 BYC001이 있고 나머지가 없음\n",
        "df21_sidewalk.loc[df21_sidewalk['sidewalk_bicycle']=='BYC001','sidewalk_bicycle']=1\n",
        "df21_sidewalk.loc[df21_sidewalk['sidewalk_bicycle']=='BYC002','sidewalk_bicycle']=0\n",
        "\n",
        "# object typecasting to int\n",
        "df21_sidewalk['sidewalk_bicycle'] = df21_sidewalk['sidewalk_bicycle'].astype('int')\n",
        "\n",
        "# geometry to coordinates\n",
        "df21_sidewalk['coordinates'] = df21_sidewalk['geometry'].apply(MULTILINESTRING_to_coordinates)\n",
        "\n",
        "# geometry to coordinates\n",
        "df21_sidewalk['coordinates'] = df21_sidewalk['geometry'].apply(MULTILINESTRING_to_coordinates)\n",
        "# df21_sidewalk = pd.DataFrame(df21_sidewalk)\n",
        "\n",
        "df21_sidewalk"
      ],
      "execution_count": null,
      "outputs": []
    },
    {
      "cell_type": "markdown",
      "metadata": {
        "id": "oSV4nSmT5OOE"
      },
      "source": [
        "### df22 버스 정류장"
      ]
    },
    {
      "cell_type": "code",
      "metadata": {
        "id": "OHk44h7M5OOE",
        "colab": {
          "base_uri": "https://localhost:8080/",
          "height": 222
        },
        "outputId": "0982500b-b1fd-4c8d-e106-c04c4631161e"
      },
      "source": [
        "# 버스 정류장\n",
        "# location_to_point 함수에서 위도 경도를 point로 가져오려면 각 df의 특성에 맞는 이름인 df_lat, df_lon가 아니라 lat, lon으로 정해준다.\n",
        "## 창균 추가 수정 (12.22)\n",
        "df22_bus_stop.columns=['bus_stop_id','bus_stop_name','lon','lat']\n",
        "\n",
        "#lat, lon to point & pd.DataFrame to gpd.GeodataFrame\n",
        "df22_bus_stop = location_to_point(df22_bus_stop)\n",
        "\n",
        "df22_bus_stop"
      ],
      "execution_count": null,
      "outputs": [
        {
          "output_type": "error",
          "ename": "NameError",
          "evalue": "ignored",
          "traceback": [
            "\u001b[0;31m---------------------------------------------------------------------------\u001b[0m",
            "\u001b[0;31mNameError\u001b[0m                                 Traceback (most recent call last)",
            "\u001b[0;32m<ipython-input-2-b2fd84e12e5f>\u001b[0m in \u001b[0;36m<module>\u001b[0;34m()\u001b[0m\n\u001b[1;32m      2\u001b[0m \u001b[0;31m# location_to_point 함수에서 위도 경도를 point로 가져오려면 각 df의 특성에 맞는 이름인 df_lat, df_lon가 아니라 lat, lon으로 정해준다.\u001b[0m\u001b[0;34m\u001b[0m\u001b[0;34m\u001b[0m\u001b[0;34m\u001b[0m\u001b[0m\n\u001b[1;32m      3\u001b[0m \u001b[0;31m## 창균 추가 수정 (12.22)\u001b[0m\u001b[0;34m\u001b[0m\u001b[0;34m\u001b[0m\u001b[0;34m\u001b[0m\u001b[0m\n\u001b[0;32m----> 4\u001b[0;31m \u001b[0mdf22_bus_stop\u001b[0m\u001b[0;34m.\u001b[0m\u001b[0mcolumns\u001b[0m\u001b[0;34m=\u001b[0m\u001b[0;34m[\u001b[0m\u001b[0;34m'bus_stop_id'\u001b[0m\u001b[0;34m,\u001b[0m\u001b[0;34m'bus_stop_name'\u001b[0m\u001b[0;34m,\u001b[0m\u001b[0;34m'lon'\u001b[0m\u001b[0;34m,\u001b[0m\u001b[0;34m'lat'\u001b[0m\u001b[0;34m]\u001b[0m\u001b[0;34m\u001b[0m\u001b[0;34m\u001b[0m\u001b[0m\n\u001b[0m\u001b[1;32m      5\u001b[0m \u001b[0mdf22_bus_stop\u001b[0m\u001b[0;34m\u001b[0m\u001b[0;34m\u001b[0m\u001b[0m\n",
            "\u001b[0;31mNameError\u001b[0m: name 'df22_bus_stop' is not defined"
          ]
        }
      ]
    },
    {
      "cell_type": "markdown",
      "metadata": {
        "id": "UTGQTtBj5OOE"
      },
      "source": [
        "### df23 상세 도로망"
      ]
    },
    {
      "cell_type": "code",
      "metadata": {
        "id": "Wd2C2pJb5OOF"
      },
      "source": [
        "#상세도로망\n",
        "#road_name null값 nan으로 처리-SY\n",
        "# 고속도로 제거\n",
        "df23_road=df23_road[df23_road['road_rank'].isin(['103','105','106','107'])]\n",
        "# 불필요한 컬럼 제거\n",
        "df23_road=df23_road.drop('facil_name',axis=1)\n",
        "# 널값 처리\n",
        "df23_road=df23_road.fillna('NaN')\n",
        "\n",
        "# object typecasting to int\n",
        "df23_road = df23_road.apply(pd.to_numeric, errors = 'ignore')\n",
        "# 뒤에 교통량 분석을 위해 id는 str으로 타입 캐스팅\n",
        "df23_road['link_id'] = df23_road['link_id'].astype(str)\n",
        "\n",
        "# geometry to coordinates\n",
        "df23_road['coordinates'] = df23_road['geometry'].apply(MULTILINESTRING_to_coordinates)\n",
        "# df23_road = pd.DataFrame(df23_road)\n",
        "\n",
        "df23_road"
      ],
      "execution_count": null,
      "outputs": []
    },
    {
      "cell_type": "markdown",
      "metadata": {
        "id": "782Hk1F_5OOF"
      },
      "source": [
        "### df24 평일 시간대별 추정 교통량"
      ]
    },
    {
      "cell_type": "code",
      "metadata": {
        "id": "Nf-jgVq25OOF"
      },
      "source": [
        "#평일 시간대별 추정교통량\n",
        "# road_name null값 nan으로 처리-SY\n",
        "# 고속도로 제외\n",
        "df24_traffic=df24_traffic[df24_traffic['도로등급'].isin(['103','105','106','107'])]\n",
        "# 필요없는 컬럼 삭제\n",
        "df24_traffic=df24_traffic.drop(['평일주말','시도명','시군구명'],axis=1)\n",
        "# 널값 NaN 처리\n",
        "df24_traffic=df24_traffic.fillna('NaN')\n",
        "\n",
        "df24_traffic.columns=['link_id','road_rank','link_length','road_name',\n",
        "               'emd_name','time','all_traffic','car_traffic',\n",
        "                'bus_traffic','freight_car_traffic']\n",
        "#traffic의 time column에서 dtype이 통일이 되어 있지 않아 str로 통일함-SY\n",
        "df24_traffic['time']=df24_traffic['time'].apply(str)\n",
        "\n",
        "df24_traffic"
      ],
      "execution_count": null,
      "outputs": []
    },
    {
      "cell_type": "markdown",
      "metadata": {
        "id": "GBWPZ_GZ5OOF"
      },
      "source": [
        "### df25 평일 혼잡빈도강도"
      ]
    },
    {
      "cell_type": "code",
      "metadata": {
        "id": "SHe3z7iH5OOF"
      },
      "source": [
        "# 평일 혼잡빈도강도\n",
        "#road_name null값 nan으로 처리-SY\n",
        "df25_traffic_frequency=df25_traffic_frequency[df25_traffic_frequency['도로등급'].isin(['103','105','106','107'])]\n",
        "df25_traffic_frequency=df25_traffic_frequency.drop(['시도명','시군구명','평일주말','시간적범위'],axis=1)\n",
        "df25_traffic_frequency=df25_traffic_frequency.fillna('NaN')\n",
        "df25_traffic_frequency.columns=['link_id','road_rank','link_length','road_name',\n",
        "                          'emd_name','frequency']\n",
        "df25_traffic_frequency['link_id'] = df25_traffic_frequency['link_id'].astype(str)\n",
        "df25_traffic_frequency"
      ],
      "execution_count": null,
      "outputs": []
    },
    {
      "cell_type": "markdown",
      "metadata": {
        "id": "vjuPzlU55OOF"
      },
      "source": [
        "### df26 평일 혼잡시간강도"
      ]
    },
    {
      "cell_type": "code",
      "metadata": {
        "id": "3kgFJFa15OOG"
      },
      "source": [
        "#평일 혼잡시간강도\n",
        "#road_name null값 nan으로 처리-SY\n",
        "df26_traffic_time=df26_traffic_time[df26_traffic_time['도로등급'].isin(['103','105','106','107'])]\n",
        "df26_traffic_time=df26_traffic_time.drop(['시도명','시군구명','평일주말','시간적범위'],axis=1)\n",
        "df26_traffic_time=df26_traffic_time.fillna('NaN')\n",
        "df26_traffic_time.columns=['link_id','road_rank','link_length','road_name',\n",
        "                          'emd_name','time']\n",
        "df26_traffic_time['link_id'] = df26_traffic_time['link_id'].astype(str)\n",
        "df26_traffic_time"
      ],
      "execution_count": null,
      "outputs": []
    },
    {
      "cell_type": "markdown",
      "metadata": {
        "id": "_FjwJ5vC5OOG"
      },
      "source": [
        "### df27 도로명주소 건물"
      ]
    },
    {
      "cell_type": "code",
      "metadata": {
        "id": "jT6JPtzM5OOG"
      },
      "source": [
        "# 창균 수정 (12/26)\n",
        "#건물\n",
        "# 불필요한 컬럼 삭제\n",
        "df27_building=df27_building.drop(['UND_FLO_CO','GRO_FLO_CO','BULD_NM_DC','BULD_NM'],axis=1)\n",
        "\n",
        "# object typecasting to int\n",
        "df27_building = df27_building.apply(pd.to_numeric, errors = 'ignore')\n",
        "\n",
        "# geometry to coordinates\n",
        "df27_building['coordinates'] = df27_building['geometry'].apply(MULTIPOLYGON_to_coordinates)\n",
        "# df27_building = pd.DataFrame(df27_building)\n",
        "\n",
        "df27_building"
      ],
      "execution_count": null,
      "outputs": []
    },
    {
      "cell_type": "markdown",
      "metadata": {
        "id": "Zdir-_8f5OOG"
      },
      "source": [
        "### df28 격자별 건물 연면적"
      ]
    },
    {
      "cell_type": "code",
      "metadata": {
        "id": "krYFcxRv5OOG",
        "colab": {
          "base_uri": "https://localhost:8080/",
          "height": 239
        },
        "outputId": "0c2f799b-aa0b-4a95-aaca-33c78c035328"
      },
      "source": [
        "# 창균 수정 (12/26)\n",
        "#격자별 건물연면적\n",
        "#val값의 null은 측정이 안된 값이라 0으로 처리-SY\n",
        "df28_grid_building.columns=['gid','grid_building_val','geometry']\n",
        "df28_grid_building=df28_grid_building.fillna(0)\n",
        "\n",
        "# geometry to coordinates\n",
        "df28_grid_building['coordinates'] = df28_grid_building['geometry'].apply(MULTIPOLYGON_to_coordinates)\n",
        "# df28_grid_building = pd.DataFrame(df28_grid_building)\n",
        "\n",
        "df28_grid_building"
      ],
      "execution_count": null,
      "outputs": [
        {
          "output_type": "error",
          "ename": "NameError",
          "evalue": "ignored",
          "traceback": [
            "\u001b[0;31m---------------------------------------------------------------------------\u001b[0m",
            "\u001b[0;31mNameError\u001b[0m                                 Traceback (most recent call last)",
            "\u001b[0;32m<ipython-input-3-c1ef20a2554b>\u001b[0m in \u001b[0;36m<module>\u001b[0;34m()\u001b[0m\n\u001b[1;32m      2\u001b[0m \u001b[0;31m#격자별 건물연면적\u001b[0m\u001b[0;34m\u001b[0m\u001b[0;34m\u001b[0m\u001b[0;34m\u001b[0m\u001b[0m\n\u001b[1;32m      3\u001b[0m \u001b[0;31m#val값의 null은 측정이 안된 값이라 0으로 처리-SY\u001b[0m\u001b[0;34m\u001b[0m\u001b[0;34m\u001b[0m\u001b[0;34m\u001b[0m\u001b[0m\n\u001b[0;32m----> 4\u001b[0;31m \u001b[0mdf28_grid_building\u001b[0m\u001b[0;34m.\u001b[0m\u001b[0mcolumns\u001b[0m\u001b[0;34m=\u001b[0m\u001b[0;34m[\u001b[0m\u001b[0;34m'gid'\u001b[0m\u001b[0;34m,\u001b[0m\u001b[0;34m'grid_building_val'\u001b[0m\u001b[0;34m,\u001b[0m\u001b[0;34m'geometry'\u001b[0m\u001b[0;34m]\u001b[0m\u001b[0;34m\u001b[0m\u001b[0;34m\u001b[0m\u001b[0m\n\u001b[0m\u001b[1;32m      5\u001b[0m \u001b[0mdf28_grid_building\u001b[0m\u001b[0;34m=\u001b[0m\u001b[0mdf28_grid_building\u001b[0m\u001b[0;34m.\u001b[0m\u001b[0mfillna\u001b[0m\u001b[0;34m(\u001b[0m\u001b[0;36m0\u001b[0m\u001b[0;34m)\u001b[0m\u001b[0;34m\u001b[0m\u001b[0;34m\u001b[0m\u001b[0m\n\u001b[1;32m      6\u001b[0m \u001b[0;34m\u001b[0m\u001b[0m\n",
            "\u001b[0;31mNameError\u001b[0m: name 'df28_grid_building' is not defined"
          ]
        }
      ]
    },
    {
      "cell_type": "markdown",
      "metadata": {
        "id": "9pXyAulB5OOG"
      },
      "source": [
        "### df29 체육시설"
      ]
    },
    {
      "cell_type": "code",
      "metadata": {
        "id": "Efh5eePB5OOG"
      },
      "source": [
        "#체육시설\n",
        "df29_sports.columns=['sports_type','lon','lat']\n",
        "\n",
        "#lat, lon to point & pd.DataFrame to gpd.GeodataFrame\n",
        "df29_sports = location_to_point(df29_sports)\n",
        "\n",
        "df29_sports"
      ],
      "execution_count": null,
      "outputs": []
    },
    {
      "cell_type": "markdown",
      "metadata": {
        "id": "rXmPIY6M5OOH"
      },
      "source": [
        "### df30 학원 교습소"
      ]
    },
    {
      "cell_type": "code",
      "metadata": {
        "id": "-sW3D0UB5OOH"
      },
      "source": [
        "#학원,교습소\n",
        "df30_academy=df30_academy.drop('교습과정명',axis=1)\n",
        "df30_academy.columns=['academy_type','lon','lat']\n",
        "df30_academy=df30_academy.fillna('NaN')\n",
        "\n",
        "#lat, lon to point & pd.DataFrame to gpd.GeodataFrame\n",
        "df30_academy = location_to_point(df30_academy)\n",
        "\n",
        "df30_academy"
      ],
      "execution_count": null,
      "outputs": []
    },
    {
      "cell_type": "markdown",
      "metadata": {
        "id": "CRPnD9v85OOH"
      },
      "source": [
        "# 4. 분석을 위한 추가 처리"
      ]
    },
    {
      "cell_type": "markdown",
      "metadata": {
        "id": "kONkN5va5OOH"
      },
      "source": [
        "## 1) 격차별 데이터"
      ]
    },
    {
      "cell_type": "code",
      "metadata": {
        "scrolled": true,
        "id": "sgbXS0pp5OOH"
      },
      "source": [
        "#각 격자에 교통사고 횟수 concat\n",
        "df_osan_grid_info=pd.concat([df_osan_grid,df2_grid_accident['accident_cnt']],axis=1)\n",
        "#각 격자에 거주인구수 concat\n",
        "df_osan_grid_info=pd.concat([df_osan_grid_info,df4_pop['pop_val']],axis=1)\n",
        "#각 격자에 유소년 거주인구수 concat\n",
        "df_osan_grid_info=pd.concat([df_osan_grid_info,df5_junior_pop['junior_val']],axis=1)\n",
        "#각 격자에 건물 면적 concat\n",
        "df_osan_grid_info=pd.concat([df_osan_grid_info,df28_grid_building['grid_building_val']],axis=1)\n",
        "df_osan_grid_info"
      ],
      "execution_count": null,
      "outputs": []
    },
    {
      "cell_type": "markdown",
      "metadata": {
        "id": "YtvlaCAt5OOH"
      },
      "source": [
        "## 2) 교통량 분석"
      ]
    },
    {
      "cell_type": "code",
      "metadata": {
        "id": "NGiZw2qn5OOH"
      },
      "source": [
        "# 14~20시에 해당하는 교통량과 상세도로망의 데이터 merge\n",
        "df_traffic_1420=df24_traffic[df24_traffic['time'].isin(['14','15','16','17,''18','19'])]\n",
        "df_traffic_road = []\n",
        "for i in df23_road['link_id']:\n",
        "    df_traffic_road.append([i,sum(df_traffic_1420[df_traffic_1420['link_id'].apply(str).str.contains(i)]['all_traffic']),\n",
        "                         sum(df_traffic_1420[df_traffic_1420['link_id'].apply(str).str.contains(i)]['freight_car_traffic'])])\n",
        "df_traffic_road=pd.DataFrame(df_traffic_road)       \n",
        "df_traffic_road.columns=['link_id','all_traffic','freight_car_traffic']\n",
        "\n",
        "#road_info에 모든 도로의 교통량,시간복잡도,빈도복잡도의 데이터를 merge한다\n",
        "df_road_info=pd.merge(df23_road,df_traffic_road,on='link_id')\n",
        "df_road_info"
      ],
      "execution_count": null,
      "outputs": []
    },
    {
      "cell_type": "markdown",
      "metadata": {
        "id": "Vwp5oP725OOI"
      },
      "source": [
        "## 3) 평일시간복잡도"
      ]
    },
    {
      "cell_type": "code",
      "metadata": {
        "id": "vyS5vpzs5OOI"
      },
      "source": [
        "# 평일시간복잡도와 상세도로망 merge\n",
        "df_traffic_time_road = []\n",
        "for i in df23_road['link_id']:\n",
        "    df_traffic_time_road.append([i,sum(df26_traffic_time[df26_traffic_time['link_id'].apply(str).str.contains(i)]['time'])])\n",
        "    \n",
        "df_traffic_time_road=pd.DataFrame(df_traffic_time_road)\n",
        "df_traffic_time_road.columns=['link_id','time']\n",
        "# road_info에 시간복잡도 merge\n",
        "df_road_info=pd.merge(df_road_info,df_traffic_time_road,on='link_id')\n",
        "df_road_info"
      ],
      "execution_count": null,
      "outputs": []
    },
    {
      "cell_type": "markdown",
      "metadata": {
        "id": "2soTdEg35OOI"
      },
      "source": [
        "## 4) 평일빈도복잡도"
      ]
    },
    {
      "cell_type": "code",
      "metadata": {
        "id": "Lds1NROx5OOI"
      },
      "source": [
        "# 평일빈도복잡도와 상세도로망 merge\n",
        "df25_traffic_frequency_road = []\n",
        "for i in df23_road['link_id']:\n",
        "    df25_traffic_frequency_road.append([i,sum(df25_traffic_frequency[df25_traffic_frequency['link_id'].apply(str).str.contains(i)]['frequency'])])\n",
        "df25_traffic_frequency_road=pd.DataFrame(df25_traffic_frequency_road)     \n",
        "df25_traffic_frequency_road.columns=['link_id','frequency']\n",
        "#road_info에 빈도복잡도 merge\n",
        "df_road_info=pd.merge(df_road_info,df25_traffic_frequency_road,on='link_id')\n",
        "df_road_info"
      ],
      "execution_count": null,
      "outputs": []
    },
    {
      "cell_type": "code",
      "metadata": {
        "id": "D0CJ_HGX5OOI"
      },
      "source": [
        "# layer = pdk.Layer(\n",
        "#     'ScatterplotLayer',\n",
        "#     df16_road_sign,\n",
        "#     get_position=['lon', 'lat'],\n",
        "#     get_radius=15,\n",
        "#     get_fill_color=[180, 0, 200, 140],\n",
        "#     pickable=True,\n",
        "#     auto_highlight=True\n",
        "#     )\n",
        "\n",
        "# center=[127.0772,37.1498]\n",
        "# view_state = pdk.ViewState( \n",
        "#     longitude=center[0], \n",
        "#     latitude=center[1], \n",
        "#     zoom=10\n",
        "# ) \n",
        "# r2 = pdk.Deck(layers=[layer], initial_view_state=view_state,\n",
        "#              map_style='mapbox://styles/mapbox/outdoors-v11',\n",
        "#              mapbox_key = \"pk.eyJ1IjoicmVib3JuMTk5OCIsImEiOiJja2oyZGppZ24wdHJ1MnRtaHU5dm92cnV0In0.8sNxBdHqt8JccQZB-oe3Cg\"\n",
        "#             )\n",
        "\n",
        "# r2.to_html()"
      ],
      "execution_count": null,
      "outputs": []
    },
    {
      "cell_type": "markdown",
      "metadata": {
        "id": "a9lLq7oF5OOI"
      },
      "source": [
        "# Link 정보 취합 및 시각화"
      ]
    },
    {
      "cell_type": "markdown",
      "metadata": {
        "id": "KNJp92mq5OOI"
      },
      "source": [
        "### EDA & 시각화"
      ]
    },
    {
      "cell_type": "code",
      "metadata": {
        "scrolled": true,
        "id": "beJBP3Qz5OOI"
      },
      "source": [
        "# df23_road['N_road_width'] = df23_road['width'] / df23_road['width'].max()\n",
        "# layer_1 = pdk.Layer(\n",
        "#     'PathLayer',\n",
        "#     df23_road,\n",
        "#     get_path='coordinates',\n",
        "#     get_width='width * 10',\n",
        "#     get_color='[255, 120, 255* N_road_width]',\n",
        "#     pickable=True,\n",
        "#     auto_highlight=True\n",
        "# )\n",
        "\n",
        "# layer_2 = pdk.Layer(\n",
        "#     'ScatterplotLayer',\n",
        "#     df16_road_sign,\n",
        "#     get_position=['lon', 'lat'],\n",
        "#     get_radius=8,\n",
        "#     get_fill_color=[180, 0, 200, 140],\n",
        "#     pickable=True,\n",
        "#     auto_highlight=True\n",
        "#     )\n",
        "\n",
        "# center=[127.0772,37.1498]\n",
        "# view_state = pdk.ViewState(\n",
        "#     longitude=center[0],\n",
        "#     latitude=center[1],\n",
        "#     zoom=13)\n",
        "\n",
        "# r = pdk.Deck(layers=[layer_1, layer_2], initial_view_state=view_state,\n",
        "#              map_style='mapbox://styles/mapbox/outdoors-v11',\n",
        "#              mapbox_key = \"pk.eyJ1IjoicmVib3JuMTk5OCIsImEiOiJja2oyZGppZ24wdHJ1MnRtaHU5dm92cnV0In0.8sNxBdHqt8JccQZB-oe3Cg\"\n",
        "#             )\n",
        "\n",
        "# r.to_html()"
      ],
      "execution_count": null,
      "outputs": []
    },
    {
      "cell_type": "code",
      "metadata": {
        "id": "b1186tYnQ7U7"
      },
      "source": [
        "# df23_road['N_road_width'] = df23_road['width'] / df23_road['width'].max()\r\n",
        "# layer_1 = pdk.Layer(\r\n",
        "#     'PathLayer',\r\n",
        "#     df23_road,\r\n",
        "#     get_path='coordinates',\r\n",
        "#     get_width='width * 10',\r\n",
        "#     get_color='[255, 120, 255* N_road_width]',\r\n",
        "#     pickable=True,\r\n",
        "#     auto_highlight=True\r\n",
        "# )\r\n",
        "\r\n",
        "# layer_2 = pdk.Layer(\r\n",
        "#     'ScatterplotLayer',\r\n",
        "#     df16_road_sign,\r\n",
        "#     get_position=['lon', 'lat'],\r\n",
        "#     get_radius=8,\r\n",
        "#     get_fill_color=[180, 0, 200, 140],\r\n",
        "#     pickable=True,\r\n",
        "#     auto_highlight=True\r\n",
        "#     )\r\n",
        "\r\n",
        "# layer_2 = pdk.Layer(\r\n",
        "#     'ScatterplotLayer',\r\n",
        "#     df10_school,\r\n",
        "#     get_position=['lon', 'lat'],\r\n",
        "#     get_radius=16,\r\n",
        "#     get_fill_color=[180, 0, 200, 140],\r\n",
        "#     pickable=True,\r\n",
        "#     auto_highlight=True\r\n",
        "#     )\r\n",
        "\r\n",
        "# center=[127.0772,37.1498]\r\n",
        "# view_state = pdk.ViewState(\r\n",
        "#     longitude=center[0],\r\n",
        "#     latitude=center[1],\r\n",
        "#     zoom=13)\r\n",
        "\r\n",
        "# r = pdk.Deck(layers=[layer_1, layer_2], initial_view_state=view_state,\r\n",
        "#              map_style='mapbox://styles/mapbox/outdoors-v11',\r\n",
        "#              mapbox_key = \"pk.eyJ1IjoicmVib3JuMTk5OCIsImEiOiJja2oyZGppZ24wdHJ1MnRtaHU5dm92cnV0In0.8sNxBdHqt8JccQZB-oe3Cg\"\r\n",
        "#             )\r\n",
        "\r\n",
        "# r.to_html()"
      ],
      "execution_count": null,
      "outputs": []
    },
    {
      "cell_type": "code",
      "metadata": {
        "id": "2RLJKU9ZLQu9"
      },
      "source": [
        "# df = df24_traffic\r\n",
        "# df['N_total_traffic'] = df['all_traffic'] / df['all_traffic'].max()\r\n",
        "# layer = pdk.Layer( 'PathLayer', \r\n",
        "#                   df, \r\n",
        "#                   get_path='link_id', \r\n",
        "#                   get_width='N_total_traffic*10', \r\n",
        "#                   get_color='[255, 255 * N_total_traffic, 120]', \r\n",
        "#                   pickable=True, auto_highlight=True \r\n",
        "#                  ) \r\n",
        "\r\n",
        "# center=[127.0772,37.1498]\r\n",
        "# view_state = pdk.ViewState(\r\n",
        "#     longitude=center[0],\r\n",
        "#     latitude=center[1],\r\n",
        "#     zoom=13)\r\n",
        "\r\n",
        "# r = pdk.Deck(layers=[layer], initial_view_state=view_state,\r\n",
        "#              map_style='mapbox://styles/mapbox/outdoors-v11',\r\n",
        "#              mapbox_key = \"pk.eyJ1IjoicmVib3JuMTk5OCIsImEiOiJja2oyZGppZ24wdHJ1MnRtaHU5dm92cnV0In0.8sNxBdHqt8JccQZB-oe3Cg\"\r\n",
        "#             )\r\n",
        "\r\n",
        "# r.to_html()"
      ],
      "execution_count": null,
      "outputs": []
    },
    {
      "cell_type": "code",
      "metadata": {
        "id": "YtgwnKO2Q9kj"
      },
      "source": [
        "# layer = pdk.Layer('PathLayer', \r\n",
        "#                   df, \r\n",
        "#                   get_path='link_id', \r\n",
        "#                   get_width='N_total_traffic*10', \r\n",
        "#                   get_color='[255, 255 * N_total_traffic, 120]', \r\n",
        "#                   pickable=True, auto_highlight=True \r\n",
        "#                  ) \r\n",
        "\r\n",
        "# center=[127.0772,37.1498]\r\n",
        "# view_state = pdk.ViewState(\r\n",
        "#     longitude=center[0],\r\n",
        "#     latitude=center[1],\r\n",
        "#     zoom=13)\r\n",
        "\r\n",
        "# r = pdk.Deck(layers=[layer], initial_view_state=view_state,\r\n",
        "#              map_style='mapbox://styles/mapbox/outdoors-v11',\r\n",
        "#              mapbox_key = \"pk.eyJ1IjoicmVib3JuMTk5OCIsImEiOiJja2oyZGppZ24wdHJ1MnRtaHU5dm92cnV0In0.8sNxBdHqt8JccQZB-oe3Cg\"\r\n",
        "#             )\r\n",
        "\r\n",
        "# r.to_html()"
      ],
      "execution_count": null,
      "outputs": []
    },
    {
      "cell_type": "code",
      "metadata": {
        "id": "-MEgACyxRKZK"
      },
      "source": [
        "# polygon_layer = pdk.Layer(\r\n",
        "#     'PolygonLayer',\r\n",
        "#     grid_info,\r\n",
        "#     stroked=False,\r\n",
        "#     # processes the data as a flat longitude-latitude pair\r\n",
        "#     get_polygon=\"coordinates\",\r\n",
        "#     get_fill_color = '[180 * accident_cnt, 0, 200, 140]',\r\n",
        "#     pickable=True,\r\n",
        "#     auto_highlight=True\r\n",
        "#     )\r\n",
        "\r\n",
        "# layer = pdk.Layer(\r\n",
        "#     'ScatterplotLayer',\r\n",
        "#     df10_school,\r\n",
        "#     get_position=['lon', 'lat'],\r\n",
        "#     get_radius=15,\r\n",
        "#     get_fill_color=[180, 0, 200, 140],\r\n",
        "#     pickable=True,\r\n",
        "#     auto_highlight=True\r\n",
        "#     )\r\n",
        "\r\n",
        "# center=[127.0772,37.1498]\r\n",
        "# view_state = pdk.ViewState(\r\n",
        "#     longitude=center[0],\r\n",
        "#     latitude=center[1],\r\n",
        "#     zoom=13)\r\n",
        "\r\n",
        "# r = pdk.Deck(layers=[polygon_layer, layer], initial_view_state=view_state,\r\n",
        "#              map_style='mapbox://styles/mapbox/outdoors-v11',\r\n",
        "#              mapbox_key = \"pk.eyJ1IjoicmVib3JuMTk5OCIsImEiOiJja2oyZGppZ24wdHJ1MnRtaHU5dm92cnV0In0.8sNxBdHqt8JccQZB-oe3Cg\"\r\n",
        "#             )\r\n",
        "\r\n",
        "# r.to_html()"
      ],
      "execution_count": null,
      "outputs": []
    },
    {
      "cell_type": "markdown",
      "metadata": {
        "id": "asN7KQwaLTDS"
      },
      "source": [
        "# # 격자별 데이터 정리\r\n",
        "# + 선용 : 격자별 인구수, 아이 인구수, 빌딩밀도, 과속방지턱 수\r\n",
        "# + 창균: 격자별 불법주정차 단속지점 수, 버스정류장 수, 횡단보도, 인도, 과속방지턱 수\r\n",
        "# + 정민 : 격자별 학원 수, 학교 수 , 유치원 수, 체육시설 수, 오산시_CCTV수 "
      ]
    },
    {
      "cell_type": "markdown",
      "metadata": {
        "id": "SCSrgFZU5OOJ"
      },
      "source": [
        "# 격자 분류"
      ]
    },
    {
      "cell_type": "markdown",
      "metadata": {
        "id": "6u7IqCsb5OOJ"
      },
      "source": [
        "격자 분류에 해당하는 데이터들\n",
        "\n",
        "df1_parking: 격자별 불법주정차 단속지점 수 parking_val\n",
        "\n",
        "df4_pop: 격자별 인구수 pop_val\n",
        "\n",
        "df5_junior_pop: 격자별 아이 인구수 junior_val\n",
        "\n",
        "df8_floating_pop: 격자별 유동인구 수 floating_pop_val\n",
        "    \n",
        "df10_school: 격자별 학교 수 school_val\n",
        "\n",
        "df13_kinder: 격자별 유치원 수 kinder_val\n",
        "\n",
        "df17_crosswalk: 오산시_횡단보도 crosswalk_val\n",
        "\n",
        "df18_speed_bump:오산시_과속방지턱 수 bump_val\n",
        "\n",
        "df20_cctv: 오산시_CCTV수 cctv_val\n",
        "\n",
        "df21_sidewalk: 오산시_인도 sidewalk_val\n",
        "\n",
        "df22_bus_stop: 격자별 버스 정류장 수 Bus_stop_val\n",
        "\n",
        "df28_grid_building: 격자별 빌딩 밀도 density_building_val\n",
        "    \n",
        "df29_sports: 격자별 체육시설 수 sports_val\n",
        "\n",
        "df30_academy: 격자별 학원 수 academy_val\n",
        "\n"
      ]
    },
    {
      "cell_type": "code",
      "metadata": {
        "id": "uDkbSZxQ5OOJ"
      },
      "source": [
        "# 인구 수와 유소년 인구 수 concat\n",
        "grid_info=pd.concat([df4_pop,df5_junior_pop['junior_val']],axis=1)\n",
        "grid_info"
      ],
      "execution_count": null,
      "outputs": []
    },
    {
      "cell_type": "code",
      "metadata": {
        "id": "j3pUT2it5OOJ"
      },
      "source": [
        "# 격자별 건물 수 concat \n",
        "grid_info=pd.concat([grid_info,df28_grid_building['grid_building_val']],axis=1)\n",
        "grid_info"
      ],
      "execution_count": null,
      "outputs": []
    },
    {
      "cell_type": "code",
      "metadata": {
        "id": "kwXNRLU05OOJ"
      },
      "source": [
        "#grid_info와 df18_speed_bump를 합치기 위하여 변경\n",
        "grid_info=gpd.GeoDataFrame(grid_info)\n",
        "df18_speed_bump=location_to_point(df18_speed_bump)"
      ],
      "execution_count": null,
      "outputs": []
    },
    {
      "cell_type": "code",
      "metadata": {
        "id": "UzfB8Fzx5OOJ"
      },
      "source": [
        "grid_info=sjoin(grid_info,df18_speed_bump,'bump_val')"
      ],
      "execution_count": null,
      "outputs": []
    },
    {
      "cell_type": "code",
      "metadata": {
        "id": "blsLrcM75OOJ"
      },
      "source": [
        "#유동인구를 함치기 위하여 변경\n",
        "df8_floating_pop=location_to_point(df8_floating_pop)"
      ],
      "execution_count": null,
      "outputs": []
    },
    {
      "cell_type": "code",
      "metadata": {
        "id": "bsZNYuVH5OOK"
      },
      "source": [
        "temp=df8_floating_pop.groupby(['lon','lat'])['8_23'].mean()\n",
        "temp=pd.DataFrame(temp)\n",
        "temp=temp.reset_index()\n",
        "# sjoin을 위하여 geodataframe으로 변경\n",
        "temp=gpd.GeoDataFrame(temp)\n",
        "temp=location_to_point(temp)\n",
        "# grid_info와 sjoin\n",
        "test=gpd.sjoin(grid_info,temp,op='contains')\n",
        "test = test.groupby('gid')['8_23'].sum().to_frame().reset_index()\n",
        "grid_info=pd.merge(grid_info,test,how='outer',on='gid')\n",
        "grid_info=grid_info.rename(columns={'8_23':'floating_pop_val'})\n",
        "#null값 처리\n",
        "grid_info=grid_info.fillna(0)\n",
        "grid_info"
      ],
      "execution_count": null,
      "outputs": []
    },
    {
      "cell_type": "code",
      "metadata": {
        "id": "9wIYXb345OOK"
      },
      "source": [
        "grid_info=grid_info[['gid','geometry','coordinates','pop_val','junior_val','grid_building_val','bump_val','floating_pop_val']]\n",
        "grid_info"
      ],
      "execution_count": null,
      "outputs": []
    },
    {
      "cell_type": "markdown",
      "metadata": {
        "id": "bynJ-Qr8LfMj"
      },
      "source": [
        "# + 정민 : 격자별 학원 수, 학교 수 , 유치원 수, 체육시설 수, 오산시_CCTV수 \r\n"
      ]
    },
    {
      "cell_type": "code",
      "metadata": {
        "id": "hS7JvZb5LhLr"
      },
      "source": [
        "school = df10_school.copy()\r\n",
        "kinder = df13_kinder.copy()\r\n",
        "sports = df29_sports.copy()\r\n",
        "CCTV = df15_traffic_cctv.copy()\r\n",
        "academy = df30_academy.copy()"
      ],
      "execution_count": null,
      "outputs": []
    },
    {
      "cell_type": "code",
      "metadata": {
        "id": "nJ-Fq3Q5Loyw"
      },
      "source": [
        "# 아카데미 평생교육원 삭제\r\n",
        "A = academy['academy_type'].unique()\r\n",
        "del_index = academy[academy['academy_type']==A[2]].index\r\n",
        "academy = academy.drop(del_index)"
      ],
      "execution_count": null,
      "outputs": []
    },
    {
      "cell_type": "code",
      "metadata": {
        "id": "uC804yorLtWx"
      },
      "source": [
        "# 창균\r\n",
        "grid_info = sjoin(grid_info, df1_parking, 'pk_val')\r\n",
        "grid_info = sjoin(grid_info, df22_bus_stop, 'bus_stop_val')\r\n",
        "grid_info = sjoin(grid_info, df17_crosswalk, 'crosswalk_val')\r\n",
        "grid_info = sjoin(grid_info, df21_sidewalk, 'sidewalk_val')\r\n",
        "\r\n",
        "# 정민\r\n",
        "grid_info = sjoin(grid_info, school, \"school_val\")\r\n",
        "grid_info = sjoin(grid_info, kinder, 'kinder_val')\r\n",
        "grid_info = sjoin(grid_info, sports, 'sports_val')\r\n",
        "grid_info = sjoin(grid_info, academy, 'academy_val')\r\n",
        "grid_info = sjoin(grid_info, CCTV, \"cctv_val\")\r\n",
        "\r\n",
        "grid_info=sjoin(grid_info,df20_cctv,'cctv_val')\r\n",
        "grid_info=sjoin(grid_info,df19_traffic_light,'traffic_light_val')"
      ],
      "execution_count": null,
      "outputs": []
    },
    {
      "cell_type": "code",
      "metadata": {
        "id": "--4XrgxI6Xgz"
      },
      "source": [
        "grid_info = grid_info.join(df2_grid_accident, how = 'left', lsuffix = '', rsuffix = '_r')\r\n",
        "grid_info.drop(['gid_r', 'geometry_r'], axis = 1, inplace = True)"
      ],
      "execution_count": null,
      "outputs": []
    },
    {
      "cell_type": "markdown",
      "metadata": {
        "id": "r0MxoLJ3q_GZ"
      },
      "source": [
        "학교 버퍼 구하기"
      ]
    },
    {
      "cell_type": "code",
      "metadata": {
        "id": "1FgoabzXq5AU"
      },
      "source": [
        "grid_center = df_osan_grid['geometry'].centroid\r\n",
        "# grid_center : 오산시 100m * 100m격자의 중앙점\r\n",
        "dist_100m = Point(grid_center[0]).distance(Point(grid_center[1])) # 중앙점간의 거리는 100m\r\n",
        "dist = dist_100m * 10\r\n",
        "# dist => 300m\r\n",
        "\r\n",
        "\r\n",
        "\r\n",
        "def point_to_buf(data_point, point_name,buf_name, n=5,): # parameter: data_point => 학교위치정보, 학원위치정보등등 point_name => school_name등, buf_name => buffer에 해당하는 해당 영역 1로 지정, n -> buf 거리지정\r\n",
        "    global dist_100m\r\n",
        "    dist = dist_100m * n\r\n",
        "    \r\n",
        "    data_buf = gpd.GeoDataFrame()\r\n",
        "    data_buf['geometry'] = data_point.buffer(distance = dist, cap_style=1)\r\n",
        "    data_buf = gpd.GeoDataFrame(data_point[point_name], geometry=data_buf.geometry)\r\n",
        "    ret_df = gpd.overlay(df_osan_grid, data_buf, how='intersection')\r\n",
        "    ret_df[buf_name] = 1\r\n",
        "    \r\n",
        "    return ret_df"
      ],
      "execution_count": null,
      "outputs": []
    },
    {
      "cell_type": "code",
      "metadata": {
        "id": "KWz2bhaDrHMM"
      },
      "source": [
        "school_cores = point_to_buf(school,'school_name',\"school_buffer_val\" ,10)\r\n",
        "school_cores=school_cores.groupby(['gid'])['school_buffer_val'].count()\r\n",
        "school_cores=pd.DataFrame(school_cores).reset_index()\r\n",
        "grid_info=pd.concat([grid_info,school_cores['school_buffer_val']],axis=1)\r\n",
        "grid_info=grid_info.fillna(0)"
      ],
      "execution_count": null,
      "outputs": []
    },
    {
      "cell_type": "markdown",
      "metadata": {
        "id": "m0qugV_p6QCM"
      },
      "source": [
        "# 격자 분석"
      ]
    },
    {
      "cell_type": "code",
      "metadata": {
        "id": "BgNlUGci9IDS"
      },
      "source": [
        "#정규화 함수\r\n",
        "def normalization(column):\r\n",
        "    m = grid_info[column].min()\r\n",
        "    M = grid_info[column].max()\r\n",
        "    grid_info[column]=(grid_info[column] - m)/(M - m)"
      ],
      "execution_count": null,
      "outputs": []
    },
    {
      "cell_type": "code",
      "metadata": {
        "id": "emMNDT1f9QfM"
      },
      "source": [
        "#정규화 과정\r\n",
        "#한번만 돌려요\r\n",
        "normalization_list=grid_info.columns[3:]\r\n",
        "for i in normalization_list:\r\n",
        "    normalization(i)"
      ],
      "execution_count": null,
      "outputs": []
    },
    {
      "cell_type": "code",
      "metadata": {
        "id": "AO3vOU1tG_ry"
      },
      "source": [
        "#상관관계 heatmap 시각화\r\n",
        "import seaborn as sns\r\n",
        "corr=grid_info.corr(method='pearson')\r\n",
        "plt.figure(figsize=(10,10))\r\n",
        "sns.heatmap(data = corr, annot=True,fmt = '.2f', linewidths=.5, cmap='Blues')"
      ],
      "execution_count": null,
      "outputs": []
    },
    {
      "cell_type": "code",
      "metadata": {
        "id": "CJdGOZyKGuwl"
      },
      "source": [
        "#회귀분석\r\n",
        "corr_list=grid_info.columns[3:-1]\r\n",
        "x=grid_info[corr_list]\r\n",
        "y=grid_info['accident_cnt']\r\n",
        "regression=linear_model.LinearRegression()\r\n",
        "regression.fit(x,y)\r\n",
        "print(regression.intercept_)\r\n",
        "print(regression.coef_)"
      ],
      "execution_count": null,
      "outputs": []
    },
    {
      "cell_type": "code",
      "metadata": {
        "id": "T6tIChrqG_3U"
      },
      "source": [
        "from statsmodels.genmod.generalized_estimating_equations import GEE\r\n",
        "from statsmodels.genmod.cov_struct import (Exchangeable,\r\n",
        "    Independence,Autoregressive)\r\n",
        "from statsmodels.genmod.families import Poisson"
      ],
      "execution_count": null,
      "outputs": []
    },
    {
      "cell_type": "code",
      "metadata": {
        "id": "d4KEqxAEhqqm"
      },
      "source": [
        "fam = Poisson()\r\n",
        "ind = Autoregressive()\r\n",
        "model1 = GEE.from_formula(\"accident_cnt ~ pop_val + junior_val \", \"gid\", grid_info, cov_struct=ind, family=fam)\r\n",
        "result1 = model1.fit()\r\n",
        "print(result1.summary())"
      ],
      "execution_count": null,
      "outputs": []
    },
    {
      "cell_type": "code",
      "metadata": {
        "id": "KoZxIISdhrd8"
      },
      "source": [
        "import statsmodels.api as sm\r\n",
        "from statsmodels.sandbox.regression.predstd import wls_prediction_std"
      ],
      "execution_count": null,
      "outputs": []
    },
    {
      "cell_type": "code",
      "metadata": {
        "id": "gShxXzn5ht4s"
      },
      "source": [
        "model = sm.OLS(y, x)\r\n",
        "result=model.fit()\r\n",
        "print(result.summary())"
      ],
      "execution_count": null,
      "outputs": []
    },
    {
      "cell_type": "code",
      "metadata": {
        "id": "-Crhmk_bhxde"
      },
      "source": [
        "import statsmodels as sm"
      ],
      "execution_count": null,
      "outputs": []
    },
    {
      "cell_type": "code",
      "metadata": {
        "id": "dFMqBT6GhzYF"
      },
      "source": [
        "expr = \"\"\"accident_cnt ~ pop_val + junior_val\"\"\"\r\n",
        "\r\n",
        "y, X = dmatrices(expr, series, return_type='dataframe')\r\n",
        "\r\n",
        "poisson_fit = sm.GLM(y, X, family=sm.families.Poisson()).fit()\r\n",
        "\r\n",
        "poisson_predict = poisson_fit.predict()"
      ],
      "execution_count": null,
      "outputs": []
    },
    {
      "cell_type": "markdown",
      "metadata": {
        "id": "vkHKKEG29J0a"
      },
      "source": [
        "Poisson"
      ]
    },
    {
      "cell_type": "code",
      "metadata": {
        "id": "dAnSyupp9K88"
      },
      "source": [
        "from patsy import dmatrices\r\n",
        "import statsmodels.api as sm\r\n",
        "from scipy import stats"
      ],
      "execution_count": null,
      "outputs": []
    },
    {
      "cell_type": "code",
      "metadata": {
        "id": "8tt1XJcR9Nxa"
      },
      "source": [
        "expr = \"\"\"accident_cnt ~ pop_val + junior_val + grid_building_val + bump_val\r\n",
        "        + floating_pop_val + pk_val + bus_stop_val + crosswalk_val + sidewalk_val\r\n",
        "        + school_val + kinder_val + sports_val + academy_val + cctv_val + accident_cnt\"\"\"\r\n",
        "\r\n",
        "y, X = dmatrices(expr, grid_info, return_type='dataframe')\r\n",
        "\r\n",
        "poisson_fit = sm.GLM(y, X, family=sm.families.Poisson()).fit()\r\n",
        "\r\n",
        "poisson_predict = poisson_fit.predict()"
      ],
      "execution_count": null,
      "outputs": []
    },
    {
      "cell_type": "code",
      "metadata": {
        "id": "UqrHNt389Pi_"
      },
      "source": [
        "a = pd.DataFrame(poisson_predict)\r\n",
        "a = a.rename(columns = {0:'Pred'})\r\n",
        "b = pd.DataFrame(grid_info['accident_cnt'])"
      ],
      "execution_count": null,
      "outputs": []
    },
    {
      "cell_type": "code",
      "metadata": {
        "id": "esE75Tk49Rqi"
      },
      "source": [
        "a['accident_cnt'] = b['accident_cnt']\r\n",
        "a.plot()"
      ],
      "execution_count": null,
      "outputs": []
    },
    {
      "cell_type": "code",
      "metadata": {
        "id": "XfF-tOGA9Tw3"
      },
      "source": [
        "print(poisson_fit.summary())"
      ],
      "execution_count": null,
      "outputs": []
    }
  ]
}