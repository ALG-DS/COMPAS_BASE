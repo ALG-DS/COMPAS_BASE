{
 "cells": [
  {
   "cell_type": "code",
   "execution_count": 1,
   "metadata": {},
   "outputs": [],
   "source": [
    "from geoband.API import *\n",
    "import pandas as pd\n",
    "import folium\n",
    "import json\n",
    "import geopandas as gpd\n",
    "from geojson import Feature, FeatureCollection, Point, dump\n",
    "import matplotlib.pyplot as plt\n",
    "import pydeck as pdk\n",
    "import shapely\n",
    "import jenkspy\n",
    "import numpy as np\n",
    "plt.rc(\"font\", family = \"Malgun Gothic\")\n",
    "%matplotlib inline\n",
    "import warnings\n",
    "warnings.filterwarnings(action='ignore') "
   ]
  },
  {
   "cell_type": "code",
   "execution_count": 56,
   "metadata": {},
   "outputs": [],
   "source": [
    "parking=GetCompasData('SBJ_2012_001', '1', '1.오산시_주정차단속(2018~2020).csv')\n",
    "grid_accident=GetCompasData('SBJ_2012_001', '2', '2.오산시_어린이교통사고_격자.geojson')\n",
    "grid_car_enrollment=GetCompasData('SBJ_2012_001', '3', '3.오산시_차량등록현황_격자.geojson')\n",
    "pop=GetCompasData('SBJ_2012_001', '4', '4.오산시_연령별_거주인구격자(총인구).geojson')\n",
    "junior_pop=GetCompasData('SBJ_2012_001', '5', '5.오산시_연령별_거주인구격자(유소년).geojson')\n",
    "product_pop=GetCompasData('SBJ_2012_001', '6', '6.오산시_연령별_거주인구격자(생산가능인구).geojson')\n",
    "senior_pop=GetCompasData('SBJ_2012_001', '7', '7.오산시_연령별_거주인구격자(고령).geojson')\n",
    "floating_pop=GetCompasData('SBJ_2012_001', '8', '8.오산시_유동인구(2019).csv')\n",
    "protection_area=GetCompasData('SBJ_2012_001', '9', '9.오산시_어린이보호구역.csv')\n",
    "school=GetCompasData('SBJ_2012_001', '10', '10.오산시_학교위치정보.csv')\n",
    "elementary_district=GetCompasData('SBJ_2012_001', '11', '11.오산시_초등학교_통학구.geojson')\n",
    "middle_district=GetCompasData('SBJ_2012_001', '12', '12.오산시_중학교_학군.geojson')\n",
    "kinder=GetCompasData('SBJ_2012_001', '13', '13.오산시_어린이집_유치원현황.csv')\n",
    "weather=GetCompasData('SBJ_2012_001', '14', '14.오산시_기상데이터(2010~2019).csv')\n",
    "traffic_cctv=GetCompasData('SBJ_2012_001', '15', '15.오산시_무인교통단속카메라.csv')\n",
    "road_sign=GetCompasData('SBJ_2012_001', '16', '16.오산시_도로안전표지표준데이터.csv')\n",
    "crosswalk=GetCompasData('SBJ_2012_001', '17', '17.오산시_횡단보도.geojson')\n",
    "speed_bump=GetCompasData('SBJ_2012_001', '18', '18.오산시_과속방지턱표준데이터.csv')\n",
    "traffic_sign=GetCompasData('SBJ_2012_001', '19', '19.오산시_신호등.geojson')\n",
    "cctv=GetCompasData('SBJ_2012_001', '20', '20.오산시_CCTV설치현황.csv')\n",
    "sidewalk=GetCompasData('SBJ_2012_001', '21', '21.오산시_인도.geojson')\n",
    "bus_stop=GetCompasData('SBJ_2012_001', '22', '22.오산시_버스정류장.csv')\n",
    "road=GetCompasData('SBJ_2012_001', '23', '23.오산시_상세도로망_LV6.geojson')\n",
    "traffic=GetCompasData('SBJ_2012_001', '24', '24.평일_전일,시간대별_오산시_추정교통량_Level6.csv')\n",
    "traffic_frequency=GetCompasData('SBJ_2012_001', '25', '25.평일_전일_오산시_혼잡빈도강도_Level6.csv')\n",
    "traffic_time=GetCompasData('SBJ_2012_001', '26', '26.평일_전일_오산시_혼잡시간강도_Level6.csv')\n",
    "building=GetCompasData('SBJ_2012_001', '27', '27.오산시_도로명주소_건물.geojson')\n",
    "grid_building=GetCompasData('SBJ_2012_001', '28', '28.오산시_건물연면적_격자.geojson')\n",
    "sports=GetCompasData('SBJ_2012_001', '29', '29.오산시_체육시설현황.csv')\n",
    "academy=GetCompasData('SBJ_2012_001', '30', '30.오산시_학원_및_교습소_현황.csv')\n",
    "le_sig=GetCompasData('SBJ_2012_001', '31', '31.오산시_법정경계(시군구).geojson')\n",
    "ad_emd=GetCompasData('SBJ_2012_001', '32', '32.오산시_행정경계(읍면동).geojson')\n",
    "le_emd=GetCompasData('SBJ_2012_001', '33', '33.오산시_법정경계(읍면동).geojson')\n",
    "cadastral_map=GetCompasData('SBJ_2012_001', '34', '34.오산시_지적도.geojson')"
   ]
  },
  {
   "cell_type": "code",
   "execution_count": 2,
   "metadata": {},
   "outputs": [],
   "source": [
    "parking=pd.read_csv('1.오산시_주정차단속(2018~2020).csv')\n",
    "grid_accident=gpd.read_file('2.오산시_어린이교통사고_격자.geojson')\n",
    "grid_car_enrollment=gpd.read_file('3.오산시_차량등록현황_격자.geojson')\n",
    "pop=gpd.read_file('4.오산시_연령별_거주인구격자(총인구).geojson')\n",
    "junior_pop=gpd.read_file('5.오산시_연령별_거주인구격자(유소년).geojson')\n",
    "product_pop=gpd.read_file('6.오산시_연령별_거주인구격자(생산가능인구).geojson')\n",
    "senior_pop=gpd.read_file('7.오산시_연령별_거주인구격자(고령).geojson')\n",
    "floating_pop=pd.read_csv('8.오산시_유동인구(2019).csv')\n",
    "protection_area=pd.read_csv('9.오산시_어린이보호구역.csv')\n",
    "school=pd.read_csv('10.오산시_학교위치정보.csv')\n",
    "elementary_district=gpd.read_file('11.오산시_초등학교_통학구.geojson')\n",
    "middle_district=gpd.read_file('12.오산시_중학교_학군.geojson')\n",
    "kinder=pd.read_csv('13.오산시_어린이집_유치원현황.csv')\n",
    "weather=pd.read_csv('14.오산시_기상데이터(2010~2019).csv')\n",
    "traffic_cctv=pd.read_csv('15.오산시_무인교통단속카메라.csv')\n",
    "road_sign=pd.read_csv('16.오산시_도로안전표지표준데이터.csv')\n",
    "crosswalk=gpd.read_file('17.오산시_횡단보도.geojson')\n",
    "speed_bump=pd.read_csv('18.오산시_과속방지턱표준데이터.csv')\n",
    "traffic_sign=gpd.read_file('19.오산시_신호등.geojson')\n",
    "cctv=pd.read_csv('20.오산시_CCTV설치현황.csv')\n",
    "sidewalk=gpd.read_file('21.오산시_인도.geojson')\n",
    "bus_stop=pd.read_csv('22.오산시_버스정류장.csv')\n",
    "road=gpd.read_file('23.오산시_상세도로망_LV6.geojson')\n",
    "traffic=pd.read_csv('24.평일_전일,시간대별_오산시_추정교통량_Level6.csv')\n",
    "traffic_frequency=pd.read_csv('25.평일_전일_오산시_혼잡빈도강도_Level6.csv')\n",
    "traffic_time=pd.read_csv('26.평일_전일_오산시_혼잡시간강도_Level6.csv')\n",
    "building=gpd.read_file('27.오산시_도로명주소_건물.geojson')\n",
    "grid_building=gpd.read_file('28.오산시_건물연면적_격자.geojson')\n",
    "sports=pd.read_csv('29.오산시_체육시설현황.csv')\n",
    "academy=pd.read_csv('30.오산시_학원_및_교습소_현황.csv')\n",
    "le_sig=gpd.read_file('31.오산시_법정경계(시군구).geojson')\n",
    "ad_emd=gpd.read_file('32.오산시_행정경계(읍면동).geojson')\n",
    "le_emd=gpd.read_file('33.오산시_법정경계(읍면동).geojson')"
   ]
  },
  {
   "cell_type": "code",
   "execution_count": 3,
   "metadata": {},
   "outputs": [],
   "source": [
    "#지도 그리는 함수 지정\n",
    "def drawing_Choro(df, osan_grid, title, legend):\n",
    "    center=[37.1498, 127.0772]\n",
    "    # 맵이 center 에 위치하고, zoom 레벨은 16로 시작하는 맵 m을 만듭니다.\n",
    "    m1 = folium.Map(\n",
    "        location=center,\n",
    "        zoom_start=13,\n",
    "        tiles='http://api.vworld.kr/req/wmts/1.0.0/26BFD173-330E-3D54-9C39-895DDD8F23B3/Base/{z}/{y}/{x}.png',\n",
    "        attr='My Data Attribution'\n",
    "    )\n",
    "\n",
    "    # Choropleth 레이어를 만들고, 맵 m에 추가합니다.\n",
    "    folium.Choropleth(\n",
    "        geo_data=osan_grid,\n",
    "        data=df,\n",
    "        columns=('gid', 'point'),\n",
    "        key_on='feature.properties.gid',\n",
    "        legend_name = legend,\n",
    "        fill_color='PuBuGn',\n",
    "        line_opacity = 0.2,\n",
    "    ).add_to(m1)\n",
    "\n",
    "    # 맵 m을 출력합니다.\n",
    "    m1.save(\"{0}.html\".format(title))"
   ]
  },
  {
   "cell_type": "code",
   "execution_count": 4,
   "metadata": {},
   "outputs": [],
   "source": [
    "#지도에 맵핑할 격자들 만들기\n",
    "osan_grid=pop.drop('val',axis=1)\n",
    "osan_grid"
   ]
  },
  {
   "cell_type": "markdown",
   "metadata": {},
   "source": [
    "# pydeck 쓰기 위한 데이터 처리 함수 지정 "
   ]
  },
  {
   "cell_type": "code",
   "execution_count": 5,
   "metadata": {},
   "outputs": [],
   "source": [
    "#주정차 단속\n",
    "parking.columns=['date','parking_location','ad_area','school_zone',\n",
    "                 'parking_lon','parking_lat','parking_type']\n",
    "#스쿨존에 해당하면 1 아니면 0\n",
    "parking.loc[parking['school_zone']=='N','school_zone']=0\n",
    "parking.loc[parking['school_zone']=='Y','school_zone']=1\n",
    "parking"
   ]
  },
  {
   "cell_type": "code",
   "execution_count": null,
   "metadata": {},
   "outputs": [],
   "source": [
    "#parking null값에 해당하는 곳은 유탑유블레스 관련한 cctv들임 어떻게 처리할까-SY\n",
    "parking[parking['parking_lon'].isnull()]\n",
    "\n",
    "##### 창균 (12.22) #####\n",
    "# 오산시 유탑유블레스 남측 좌표 \n",
    "parking[\"parking_lon\"].fillna(127.072291, inplace = True)\n",
    "parking[\"parking_lat\"].fillna(37.141363, inplace = True)\n",
    "parking"
   ]
  },
  {
   "cell_type": "code",
   "execution_count": null,
   "metadata": {},
   "outputs": [],
   "source": [
    "#나중에 비율 구할때 써야됨\n",
    "#val값에 null은 측정이 안된 곳이기에 0으로 처리해줌-SY\n",
    "pop=pop.rename(columns={'val':'pop_val'})\n",
    "pop=pop.fillna(0)\n",
    "junior_pop=junior_pop.rename(columns={'val':'junior_val'})\n",
    "junior_pop=junior_pop.fillna(0)\n",
    "senior_pop=senior_pop.rename(columns={'val':'senior_val'})\n",
    "senior_pop=senior_pop.fillna(0)\n",
    "product_pop=product_pop.rename(columns={'val':'product_val'})\n",
    "product_pop=product_pop.fillna(0)"
   ]
  },
  {
   "cell_type": "code",
   "execution_count": null,
   "metadata": {},
   "outputs": [],
   "source": [
    "# 정민 수정사항(12/21)\n",
    "# 오산시 격자별 유소년 인구수/총 인구수 데이터 전처리\n",
    "\n",
    "junior_ratio_pop = junior_pop.merge(pop, on ='gid')\n",
    "junior_ratio_pop = junior_ratio_pop.drop(['geometry_x'], axis = 1)\n",
    "junior_ratio_pop.columns = ['gid', 'junior_val', 'pop_val', 'geometry']\n",
    "junior_ratio_pop['junior_ratio'] = junior_ratio_pop['junior_val']/junior_ratio_pop['pop_val'] * 100\n",
    "\n",
    "junior_ratio_pop['junior_ratio'].value_counts()\n",
    "junior_ratio_pop=junior_ratio_pop.fillna(0)\n",
    "junior_ratio_pop"
   ]
  },
  {
   "cell_type": "code",
   "execution_count": null,
   "metadata": {},
   "outputs": [],
   "source": [
    "# 주니어 인구비율 분포확인\n",
    "%matplotlib inline\n",
    "junior_ratio_pop[\"junior_ratio\"].plot(xlabel = \"gid\", ylabel = \"junior population ratio to total population\")"
   ]
  },
  {
   "cell_type": "code",
   "execution_count": null,
   "metadata": {},
   "outputs": [],
   "source": [
    "#합치는 코드 있어서 한번만 돌려야됨\n",
    "#유동인구\n",
    "col_list=list(floating_pop)\n",
    "col_list_all=col_list[3:]\n",
    "col_list_14_20=col_list[17:23]\n",
    "#모든 시간대 유동인구\n",
    "floating_pop['all']=floating_pop[col_list_all].sum(axis=1)\n",
    "#사고가 가장 많이 일어나는 14~20\n",
    "floating_pop['14_20']=floating_pop[col_list_14_20].sum(axis=1)\n",
    "floating_pop=floating_pop.rename(columns={'STD_YM':'YM','lon':'floating_lon','lat':'floating_lat'})\n",
    "floating_pop"
   ]
  },
  {
   "cell_type": "code",
   "execution_count": null,
   "metadata": {},
   "outputs": [],
   "source": [
    "#어린이 보호구역\n",
    "protection_area.columns=['protection_type','protection_name','protection_cctv',\n",
    "                         'protection_cctv_count','width','protection_lon','protection_lat']\n",
    "#cctv 있으면 1 없으면 0\n",
    "protection_area.loc[protection_area['protection_cctv']=='N','protection_cctv']=0\n",
    "protection_area.loc[protection_area['protection_cctv']=='Y','protection_cctv']=1\n",
    "protection_area"
   ]
  },
  {
   "cell_type": "code",
   "execution_count": null,
   "metadata": {},
   "outputs": [],
   "source": [
    "#학교 위치정보\n",
    "a=school.loc[school['학교구분'].isin(['고등학교','중학교'])].index\n",
    "school=school.drop(a)\n",
    "school.columns=['school_type','school_name','school_lon','school_lat']\n",
    "school"
   ]
  },
  {
   "cell_type": "code",
   "execution_count": null,
   "metadata": {},
   "outputs": [],
   "source": [
    "# 초등학교 통학구\n",
    "#type이 0이면 단독 통학구 1이면 다중 통학구?\n",
    "elementary_district.columns=['objectid','district_id','ed_name','ed_type','ed_geometry']\n",
    "elementary_district.head()\n"
   ]
  },
  {
   "cell_type": "code",
   "execution_count": null,
   "metadata": {},
   "outputs": [],
   "source": [
    "# 어린이집 유치원현황\n",
    "kinder=kinder.drop('시설타입',axis=1)\n",
    "kinder.columns=['kinder_type','kinder_name','kinder_lon','kinder_lat']\n",
    "kinder"
   ]
  },
  {
   "cell_type": "code",
   "execution_count": null,
   "metadata": {},
   "outputs": [],
   "source": [
    "#무인교통 단속 카메라\n",
    "traffic_cctv=traffic_cctv.drop(['도로노선방향','단속구분'],axis=1)\n",
    "traffic_cctv.columns=['tc_road_name','tc_location_name','tc_lon','tc_lat']\n",
    "traffic_cctv"
   ]
  },
  {
   "cell_type": "code",
   "execution_count": null,
   "metadata": {},
   "outputs": [],
   "source": [
    "#도로안전표지 표준데이터\n",
    "road_sign.columns=['road_sign_num','road_sign_type','road_sign_lon','road_sign_lat']\n",
    "road_sign"
   ]
  },
  {
   "cell_type": "code",
   "execution_count": null,
   "metadata": {},
   "outputs": [],
   "source": [
    "#횡단보도\n",
    "## 창균 추가 수정 (12.22)\n",
    "crosswalk.columns=['crosswalk_objectid','crosswalk_geometry']\n",
    "crosswalk"
   ]
  },
  {
   "cell_type": "code",
   "execution_count": null,
   "metadata": {},
   "outputs": [],
   "source": [
    "#과속방지턷표준데이터\n",
    "speed_bump.columns=['bump_road_name','bump_location_name','bump_height','bump_width',\n",
    "                   'bump_length','bump_sep','bump_continue','bump_lon','bump_lat']\n",
    "#과속방지턱 보차분리여부,연속형 여부 0,1로 변환\n",
    "speed_bump.loc[speed_bump['bump_sep']=='N','bump_sep']=0\n",
    "speed_bump.loc[speed_bump['bump_sep']=='Y','bump_sep']=1\n",
    "speed_bump.loc[speed_bump['bump_continue']=='N','bump_continue']=0\n",
    "speed_bump.loc[speed_bump['bump_continue']=='Y','bump_continue']=1\n",
    "speed_bump\n"
   ]
  },
  {
   "cell_type": "code",
   "execution_count": null,
   "metadata": {},
   "outputs": [],
   "source": [
    "#신호등\n",
    "## 창균 추가 수정 (12.22)\n",
    "traffic_sign.columns=['traffic_sign_objectid','traffic_sign_geometry']\n",
    "traffic_sign"
   ]
  },
  {
   "cell_type": "code",
   "execution_count": null,
   "metadata": {},
   "outputs": [],
   "source": [
    "#cctv\n",
    "# cctv_type A: 방범 B:도시공원 C:어린이보호 D:차량방범\n",
    "cctv.columns=['cctv_type','cctv_road_name','cctv_lat','cctv_lon']\n",
    "#cctv_lat,lon에서 중복적으로 결측값이 나와서 drop, road_name도 null값 nan으로 처리-SY\n",
    "cctv=cctv.drop([500,567],axis=0)\n",
    "cctv=cctv.fillna('NaN')\n",
    "cctv"
   ]
  },
  {
   "cell_type": "code",
   "execution_count": null,
   "metadata": {},
   "outputs": [],
   "source": [
    "#인도\n",
    "sidewalk=sidewalk.drop('QUAL',axis=1)\n",
    "sidewalk.columns=['sidewalk_id','sidewalk_bicycle',\n",
    "                  'sidewalk_type','sidewalk_geometry']\n",
    "#자전거 도로유무 BYC001이 있고 나머지가 없음\n",
    "sidewalk.loc[sidewalk['sidewalk_bicycle']=='BYC001','sidewalk_bicycle']=1\n",
    "sidewalk.loc[sidewalk['sidewalk_bicycle']=='BYC002','sidewalk_bicycle']=0\n",
    "sidewalk"
   ]
  },
  {
   "cell_type": "code",
   "execution_count": null,
   "metadata": {},
   "outputs": [],
   "source": [
    "# 버스 정류장\n",
    "## 창균 추가 수정 (12.22)\n",
    "bus_stop.columns=['bus_stop_id','bus_stop_name','bus_stop_lon','bus_stop_lat']\n",
    "bus_stop"
   ]
  },
  {
   "cell_type": "code",
   "execution_count": null,
   "metadata": {},
   "outputs": [],
   "source": [
    "#상세도로망\n",
    "#road_name null값 nan으로 처리-SY\n",
    "road=road[road['road_rank'].isin(['103','105','106','107'])]\n",
    "road=road.drop('facil_name',axis=1)\n",
    "road=road.fillna('NaN')\n",
    "road"
   ]
  },
  {
   "cell_type": "code",
   "execution_count": null,
   "metadata": {},
   "outputs": [],
   "source": [
    "traffic"
   ]
  },
  {
   "cell_type": "code",
   "execution_count": null,
   "metadata": {},
   "outputs": [],
   "source": [
    "#평일 시간대별 추정교통량\n",
    "#road_name null값 nan으로 처리-SY\n",
    "traffic=traffic[traffic['도로등급'].isin(['103','105','106','107'])]\n",
    "traffic=traffic.drop(['평일주말','시도명','시군구명'],axis=1)\n",
    "traffic=traffic.fillna('NaN')\n",
    "traffic.columns=['link_id','road_rank','link_length','road_name',\n",
    "               'emd_name','time','all_traffic','car_traffic',\n",
    "                'bus_traffic','freight_car_traffic']\n",
    "traffic"
   ]
  },
  {
   "cell_type": "code",
   "execution_count": null,
   "metadata": {},
   "outputs": [],
   "source": [
    "# 평일 혼잡빈도강도\n",
    "#road_name null값 nan으로 처리-SY\n",
    "traffic_frequency=traffic_frequency[traffic_frequency['도로등급'].isin(['103','105','106','107'])]\n",
    "traffic_frequency=traffic_frequency.drop(['시도명','시군구명','평일주말','시간적범위'],axis=1)\n",
    "traffic_frequency=traffic_frequency.fillna('nan')\n",
    "traffic_frequency.columns=['link_id','road_rank','link_length','road_name',\n",
    "                          'emd_name','frequency']\n",
    "traffic_frequency"
   ]
  },
  {
   "cell_type": "code",
   "execution_count": null,
   "metadata": {},
   "outputs": [],
   "source": [
    "#평일 혼잡시간강도\n",
    "#road_name null값 nan으로 처리-SY\n",
    "traffic_time=traffic_time[traffic_time['도로등급'].isin(['103','105','106','107'])]\n",
    "traffic_time=traffic_time.drop(['시도명','시군구명','평일주말','시간적범위'],axis=1)\n",
    "traffic_time=traffic_time.fillna('NaN')\n",
    "traffic_time.columns=['link_id','road_rank','link_length','road_name',\n",
    "                          'emd_name','time']\n",
    "traffic_time"
   ]
  },
  {
   "cell_type": "code",
   "execution_count": null,
   "metadata": {},
   "outputs": [],
   "source": [
    "#건물\n",
    "building=building.drop(['UND_FLO_CO','GRO_FLO_CO','BULD_NM_DC','BULD_NM'],axis=1)\n",
    "building=building.rename(columns={'geometry':'building_geometry'})\n",
    "building"
   ]
  },
  {
   "cell_type": "code",
   "execution_count": null,
   "metadata": {},
   "outputs": [],
   "source": [
    "#격자별 건물연견적\n",
    "#val값의 null은 측정이 안된 값이라 0으로 처리-SY\n",
    "grid_building.columns=['gid','grid_building_val','grid_building_geometry']\n",
    "grid_building=grid_building.fillna(0)\n",
    "grid_building"
   ]
  },
  {
   "cell_type": "code",
   "execution_count": null,
   "metadata": {},
   "outputs": [],
   "source": [
    "#체육시설\n",
    "sports.columns=['sports_type','sports_lon','sports_lat']\n",
    "sports"
   ]
  },
  {
   "cell_type": "code",
   "execution_count": null,
   "metadata": {},
   "outputs": [],
   "source": [
    "#학원,교습소\n",
    "academy=academy.drop('교습과정명',axis=1)\n",
    "academy.columns=['academy_type','academy_lon','academy_lat']\n",
    "academy=academy.fillna('NaN')\n",
    "academy"
   ]
  },
  {
   "cell_type": "markdown",
   "metadata": {},
   "source": [
    "# 격자에 대한 전처리 "
   ]
  },
  {
   "cell_type": "code",
   "execution_count": null,
   "metadata": {},
   "outputs": [],
   "source": [
    "#각 격자에 교통사고 횟수 concat\n",
    "osan_grid_info=pd.concat([osan_grid,grid_accident['accident_cnt']],axis=1)\n",
    "#각 격자에 거주인구수 concat\n",
    "osan_grid_info=pd.concat([osan_grid_info,pop['pop_val']],axis=1)\n",
    "#각 격자에 유소년 거주인구수 concat\n",
    "osan_grid_info=pd.concat([osan_grid_info,junior_pop['junior_val']],axis=1)\n",
    "#각 격자에 건물 면적 concat\n",
    "osan_grid_info=pd.concat([osan_grid_info,grid_building['grid_building_val']],axis=1)\n",
    "osan_grid_info"
   ]
  }
 ],
 "metadata": {
  "kernelspec": {
   "display_name": "Python 3",
   "language": "python",
   "name": "python3"
  },
  "language_info": {
   "codemirror_mode": {
    "name": "ipython",
    "version": 3
   },
   "file_extension": ".py",
   "mimetype": "text/x-python",
   "name": "python",
   "nbconvert_exporter": "python",
   "pygments_lexer": "ipython3",
   "version": "3.7.6"
  }
 },
 "nbformat": 4,
 "nbformat_minor": 4
}
